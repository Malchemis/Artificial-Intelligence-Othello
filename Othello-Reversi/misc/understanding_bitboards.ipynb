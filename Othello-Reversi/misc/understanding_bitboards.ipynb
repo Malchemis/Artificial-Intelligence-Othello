{
 "cells": [
  {
   "cell_type": "markdown",
   "source": [
    "### Understanding BitBoards\n",
    "\n",
    "Date : 2024\n",
    "Author : Malchemis\n"
   ],
   "metadata": {
    "collapsed": false
   },
   "id": "2ed8b0ae12660ea8"
  },
  {
   "cell_type": "markdown",
   "source": [
    "We can represent a game board as a 64-bit integer where each bit represents a cell in the board. The least significant bit (LSB) represents the top-left cell and the most significant bit (MSB) represents the bottom-right cell. \n",
    "We can use bitwise operations to generate the possible moves for the current player and to update the board after a move is played. This approach is efficient and allows us to generate the possible moves and update the board at runtime."
   ],
   "metadata": {
    "collapsed": false
   },
   "id": "4c610d9895ecb37b"
  },
  {
   "cell_type": "code",
   "outputs": [
    {
     "name": "stdout",
     "output_type": "stream",
     "text": [
      "1000000000000000000000000000000000000000000000000000000000000000\n",
      "0000000000000000000000000000000000000000000000000000000011110001\n",
      "1000000000000000000000000000000000000000000000000000000011110001\n"
     ]
    }
   ],
   "source": [
    "# We decide to separate the white and black stones in two different bitboards\n",
    "# An 8x8 board will be represented as a 64-bit integer\n",
    "white = 0x80_00_00_00_00_00_00_00 # 1 stone at the bottom right\n",
    "black = 0x00_00_00_00_00_00_00_F1 # 1 stone at the top left + 4 stones at the top right\n",
    "board = white | black\n",
    "print(f'{white:064b}')\n",
    "print(f'{black:064b}')\n",
    "print(f'{board:064b}')"
   ],
   "metadata": {
    "collapsed": false,
    "ExecuteTime": {
     "end_time": "2024-03-12T12:09:19.042330Z",
     "start_time": "2024-03-12T12:09:19.037083Z"
    }
   },
   "id": "52b91e12135c8621",
   "execution_count": 109
  },
  {
   "cell_type": "code",
   "outputs": [
    {
     "name": "stdout",
     "output_type": "stream",
     "text": [
      "The top left corner of the board is owned by black : True\n",
      "The bottom right corner of the board is owned by white : True\n"
     ]
    }
   ],
   "source": [
    "board_size = 8\n",
    "def get_state(bitboard: int, x: int, y: int, size: int):\n",
    "    \"\"\"Return the state of the cell by shifting the board to the right by x * size + y and\n",
    "    taking the LSB\"\"\"\n",
    "    return (bitboard >> (x * size + y)) & 1\n",
    "\n",
    "print(f\"The top left corner of the board is owned by black : \"\n",
    "      f\"{get_state(board, 0, 0, board_size) == get_state(black, 0, 0, board_size)}\")       # True\n",
    "print(f\"The bottom right corner of the board is owned by white : \"\n",
    "      f\"{get_state(board, 7, 7, board_size) == get_state(white, 7, 7, board_size)}\")   # True"
   ],
   "metadata": {
    "collapsed": false,
    "ExecuteTime": {
     "end_time": "2024-03-12T12:09:19.174109Z",
     "start_time": "2024-03-12T12:09:19.167319Z"
    }
   },
   "id": "eb197533363262c5",
   "execution_count": 110
  },
  {
   "cell_type": "markdown",
   "source": [
    "Using GetState we can print the pieces/stones of any BitBoards (players, pieces, moves, etc.):"
   ],
   "metadata": {
    "collapsed": false
   },
   "id": "9896a1c22aded2b0"
  },
  {
   "cell_type": "code",
   "outputs": [],
   "source": [
    "def print_pieces(bitboard: int, size: int):\n",
    "    \"\"\"Print the bit values of the board as a matrix of 0 and 1\"\"\"\n",
    "    for i in range(size):\n",
    "        for j in range(size):\n",
    "            print(get_state(bitboard, i, j, size), end=' ')\n",
    "        print()\n",
    "    print()\n",
    "\n",
    "\n",
    "def print_board(white_pieces: int, black_pieces: int, size: int):\n",
    "    \"\"\"Print the board with W for white_pieces, B for black_pieces and . for empty cells\"\"\"\n",
    "    for i in range(size):\n",
    "        for j in range(size):\n",
    "            if get_state(white_pieces, i, j, size):\n",
    "                print('W', end=' ')\n",
    "            elif get_state(black_pieces, i, j, size):\n",
    "                print('B', end=' ')\n",
    "            else:\n",
    "                print('.', end=' ')\n",
    "        print()\n",
    "    print()"
   ],
   "metadata": {
    "collapsed": false,
    "ExecuteTime": {
     "end_time": "2024-03-12T12:09:19.192162Z",
     "start_time": "2024-03-12T12:09:19.185835Z"
    }
   },
   "id": "577c32592e4aa9eb",
   "execution_count": 111
  },
  {
   "cell_type": "code",
   "outputs": [
    {
     "name": "stdout",
     "output_type": "stream",
     "text": [
      "White Pieces\n",
      "0 0 0 0 0 0 0 0 \n",
      "0 0 0 0 0 0 0 0 \n",
      "0 0 0 0 0 0 0 0 \n",
      "0 0 0 0 0 0 0 0 \n",
      "0 0 0 0 0 0 0 0 \n",
      "0 0 0 0 0 0 0 0 \n",
      "0 0 0 0 0 0 0 0 \n",
      "0 0 0 0 0 0 0 1 \n",
      "\n",
      "Black Pieces\n",
      "1 0 0 0 1 1 1 1 \n",
      "0 0 0 0 0 0 0 0 \n",
      "0 0 0 0 0 0 0 0 \n",
      "0 0 0 0 0 0 0 0 \n",
      "0 0 0 0 0 0 0 0 \n",
      "0 0 0 0 0 0 0 0 \n",
      "0 0 0 0 0 0 0 0 \n",
      "0 0 0 0 0 0 0 0 \n",
      "\n",
      "Board\n",
      "B . . . B B B B \n",
      ". . . . . . . . \n",
      ". . . . . . . . \n",
      ". . . . . . . . \n",
      ". . . . . . . . \n",
      ". . . . . . . . \n",
      ". . . . . . . . \n",
      ". . . . . . . W \n"
     ]
    }
   ],
   "source": [
    "print(\"White Pieces\")\n",
    "print_pieces(white, board_size)\n",
    "print(\"Black Pieces\")\n",
    "print_pieces(black, board_size)\n",
    "print(\"Board\")\n",
    "print_board(white, black, board_size)"
   ],
   "metadata": {
    "collapsed": false,
    "ExecuteTime": {
     "end_time": "2024-03-12T12:09:19.210722Z",
     "start_time": "2024-03-12T12:09:19.205840Z"
    }
   },
   "id": "e44e9f20671cb644",
   "execution_count": 112
  },
  {
   "cell_type": "markdown",
   "source": [
    "We can also easily define a function to set a cell to 1 using bitwise operations :"
   ],
   "metadata": {
    "collapsed": false
   },
   "id": "952e16f4f8a2a1ab"
  },
  {
   "cell_type": "code",
   "outputs": [],
   "source": [
    "def set_state(bitboard: int, x: int, y: int, size: int):\n",
    "    \"\"\"Add a bit to the board by shifting a 1 to the left by x * size + y (flattened coordinates)\"\"\"\n",
    "    return bitboard | (1 << (x * size + y))"
   ],
   "metadata": {
    "collapsed": false,
    "ExecuteTime": {
     "end_time": "2024-03-12T12:09:19.248713Z",
     "start_time": "2024-03-12T12:09:19.244909Z"
    }
   },
   "id": "905033f671a0f334",
   "execution_count": 113
  },
  {
   "cell_type": "code",
   "outputs": [
    {
     "name": "stdout",
     "output_type": "stream",
     "text": [
      "1000000000000000000000000000000000000000000000000000000000000000\n",
      "0000000000000000000000000000000000000000000000000000000011110001\n",
      "1000000000000000000000000000000000000000000000000000000011110001\n",
      "White Pieces\n",
      "0 0 0 0 0 0 0 0 \n",
      "0 0 0 0 0 0 0 0 \n",
      "0 0 0 0 0 0 0 0 \n",
      "0 0 0 0 0 0 0 0 \n",
      "0 0 0 0 0 0 0 0 \n",
      "0 0 0 0 0 0 0 0 \n",
      "0 0 0 0 0 0 0 0 \n",
      "0 0 0 0 0 0 0 1 \n",
      "\n",
      "Black Pieces\n",
      "1 0 0 0 1 1 1 1 \n",
      "0 0 0 0 0 0 0 0 \n",
      "0 0 0 0 0 0 0 0 \n",
      "0 0 0 0 0 0 0 0 \n",
      "0 0 0 0 0 0 0 0 \n",
      "0 0 0 0 0 0 0 0 \n",
      "0 0 0 0 0 0 0 0 \n",
      "0 0 0 0 0 0 0 0 \n",
      "\n",
      "Board\n",
      "B . . . B B B B \n",
      ". . . . . . . . \n",
      ". . . . . . . . \n",
      ". . . . . . . . \n",
      ". . . . . . . . \n",
      ". . . . . . . . \n",
      ". . . . . . . . \n",
      ". . . . . . . W \n"
     ]
    }
   ],
   "source": [
    "# Let's do as before but using the set_state function\n",
    "white = 0\n",
    "black = 0\n",
    "\n",
    "white = set_state(white, 7, 7, board_size)\n",
    "black = set_state(black, 0, 0, board_size)\n",
    "black = set_state(black, 0, 4, board_size)\n",
    "black = set_state(black, 0, 5, board_size)\n",
    "black = set_state(black, 0, 6, board_size)\n",
    "black = set_state(black, 0, 7, board_size)\n",
    "\n",
    "print(f'{white:064b}')\n",
    "print(f'{black:064b}')\n",
    "print(f'{white | black:064b}')\n",
    "print(\"White Pieces\")\n",
    "print_pieces(white, board_size)\n",
    "print(\"Black Pieces\")\n",
    "print_pieces(black, board_size)\n",
    "print(\"Board\")\n",
    "print_board(white, black, board_size)"
   ],
   "metadata": {
    "collapsed": false,
    "ExecuteTime": {
     "end_time": "2024-03-12T12:09:19.268258Z",
     "start_time": "2024-03-12T12:09:19.262381Z"
    }
   },
   "id": "daef56a5d8260aa1",
   "execution_count": 114
  },
  {
   "cell_type": "markdown",
   "source": [
    "Now that we know that everything works fine, we will continue with the initial position in the game of Othello/Reversi."
   ],
   "metadata": {
    "collapsed": false
   },
   "id": "e1e0b811abfa1973"
  },
  {
   "cell_type": "code",
   "outputs": [
    {
     "name": "stdout",
     "output_type": "stream",
     "text": [
      "White Pieces\n",
      "0 0 0 0 0 0 0 0 \n",
      "0 0 0 0 0 0 0 0 \n",
      "0 0 0 0 0 0 0 0 \n",
      "0 0 0 1 0 0 0 0 \n",
      "0 0 0 0 1 0 0 0 \n",
      "0 0 0 0 0 0 0 0 \n",
      "0 0 0 0 0 0 0 0 \n",
      "0 0 0 0 0 0 0 0 \n",
      "\n",
      "Black Pieces\n",
      "0 0 0 0 0 0 0 0 \n",
      "0 0 0 0 0 0 0 0 \n",
      "0 0 0 0 0 0 0 0 \n",
      "0 0 0 0 1 0 0 0 \n",
      "0 0 0 1 0 0 0 0 \n",
      "0 0 0 0 0 0 0 0 \n",
      "0 0 0 0 0 0 0 0 \n",
      "0 0 0 0 0 0 0 0 \n",
      "\n",
      "Board\n",
      ". . . . . . . . \n",
      ". . . . . . . . \n",
      ". . . . . . . . \n",
      ". . . W B . . . \n",
      ". . . B W . . . \n",
      ". . . . . . . . \n",
      ". . . . . . . . \n",
      ". . . . . . . . \n"
     ]
    }
   ],
   "source": [
    "white = 0\n",
    "black = 0\n",
    "\n",
    "white = set_state(white, 3, 3, board_size)\n",
    "white = set_state(white, 4, 4, board_size)\n",
    "black = set_state(black, 3, 4, board_size)\n",
    "black = set_state(black, 4, 3, board_size)\n",
    "\n",
    "print(\"White Pieces\")\n",
    "print_pieces(white, board_size)\n",
    "print(\"Black Pieces\")\n",
    "print_pieces(black, board_size)\n",
    "print(\"Board\")\n",
    "print_board(white, black, board_size)"
   ],
   "metadata": {
    "collapsed": false,
    "ExecuteTime": {
     "end_time": "2024-03-12T12:09:19.320024Z",
     "start_time": "2024-03-12T12:09:19.314160Z"
    }
   },
   "id": "ec8cf478988f0ea6",
   "execution_count": 115
  },
  {
   "cell_type": "markdown",
   "source": [
    "Let us define a utility function to count the number of cells in the board :"
   ],
   "metadata": {
    "collapsed": false
   },
   "id": "c6e0205022d55482"
  },
  {
   "cell_type": "code",
   "outputs": [],
   "source": [
    "def cell_count(bitboard: int):\n",
    "    \"\"\"Count the number of cells in the board\"\"\"\n",
    "    return bitboard.bit_count() # most efficient way to count for python>=3.10"
   ],
   "metadata": {
    "collapsed": false,
    "ExecuteTime": {
     "end_time": "2024-03-12T12:09:19.333511Z",
     "start_time": "2024-03-12T12:09:19.330774Z"
    }
   },
   "id": "27a4fa1d22f02261",
   "execution_count": 116
  },
  {
   "cell_type": "code",
   "outputs": [
    {
     "name": "stdout",
     "output_type": "stream",
     "text": [
      "White has 2 pieces\n",
      "Black has 2 pieces\n",
      "There are 4 pieces on the board\n"
     ]
    }
   ],
   "source": [
    "print(f\"White has {cell_count(white)} pieces\")\n",
    "print(f\"Black has {cell_count(black)} pieces\")\n",
    "print(f\"There are {cell_count(white | black)} pieces on the board\")"
   ],
   "metadata": {
    "collapsed": false,
    "ExecuteTime": {
     "end_time": "2024-03-12T12:09:19.345704Z",
     "start_time": "2024-03-12T12:09:19.335471Z"
    }
   },
   "id": "32b02274904fd312",
   "execution_count": 117
  },
  {
   "cell_type": "markdown",
   "source": [
    "Now let's see how we can take advantage of bitwise operations to generate the possible moves for the current player and to update the board after a move is played."
   ],
   "metadata": {
    "collapsed": false
   },
   "id": "44a3a26ce8b42105"
  },
  {
   "cell_type": "markdown",
   "source": [
    "We can shift the whole board to a given directions by simply applying a logical shift to the left (using << op) or to the right (using >> op) :\n",
    " \n",
    "- To go to the **North**, we shift the board to the **right** by **8** as the **top left piece** is the **LSB**.\n",
    "- To go to the **South**, we shift the board to the **left** by **8** as the **bottom right piece** is the **MSB**.\n",
    "- To go to the **East**, we shift the board to the **right** by **1**.\n",
    "- To go to the **West**, we shift the board to the **left** by **1**."
   ],
   "metadata": {
    "collapsed": false
   },
   "id": "6ef72f2f09c547fc"
  },
  {
   "cell_type": "code",
   "outputs": [],
   "source": [
    "def N(x):\n",
    "    return x >> 8\n",
    "def S(x):\n",
    "    return (x & 0x00ffffffffffffff) << 8\n",
    "def E(x):\n",
    "    return (x & 0x7f7f7f7f7f7f7f7f) << 1\n",
    "def W(x):\n",
    "    return (x & 0xfefefefefefefefe) >> 1"
   ],
   "metadata": {
    "collapsed": false,
    "ExecuteTime": {
     "end_time": "2024-03-12T12:09:19.356567Z",
     "start_time": "2024-03-12T12:09:19.347655Z"
    }
   },
   "id": "cc6a478ac0d4da28",
   "execution_count": 118
  },
  {
   "cell_type": "markdown",
   "source": [
    "We have to add the masks using the bitwise AND operator to preserve the bits on the border in the direction concerned. We don't want bits to extend from one side to the other, or to overflow."
   ],
   "metadata": {
    "collapsed": false
   },
   "id": "ff76c4cf625a7427"
  },
  {
   "cell_type": "code",
   "outputs": [
    {
     "name": "stdout",
     "output_type": "stream",
     "text": [
      "North\n",
      "0000000000000000000000000001000000001000000000000000000000000000\n",
      "0000000000000000000000000000000000000000000000000000000000010000\n",
      "0 0 0 0 0 0 0 0 \n",
      "0 0 0 0 0 0 0 0 \n",
      "0 0 0 0 0 0 0 0 \n",
      "0 0 0 1 0 0 0 0 \n",
      "0 0 0 0 1 0 0 0 \n",
      "0 0 0 0 0 0 0 0 \n",
      "0 0 0 0 0 0 0 0 \n",
      "0 0 0 0 0 0 0 0 \n",
      "\n",
      "0 0 0 0 0 0 0 0 \n",
      "0 0 0 0 0 0 0 0 \n",
      "0 0 0 1 0 0 0 0 \n",
      "0 0 0 0 1 0 0 0 \n",
      "0 0 0 0 0 0 0 0 \n",
      "0 0 0 0 0 0 0 0 \n",
      "0 0 0 0 0 0 0 0 \n",
      "0 0 0 0 0 0 0 0 \n",
      "\n",
      "South\n",
      "0000000000000000000000000001000000001000000000000000000000000000\n",
      "0000000000000000000100000000100000000000000000000000000000000000\n",
      "0 0 0 0 0 0 0 0 \n",
      "0 0 0 0 0 0 0 0 \n",
      "0 0 0 0 0 0 0 0 \n",
      "0 0 0 1 0 0 0 0 \n",
      "0 0 0 0 1 0 0 0 \n",
      "0 0 0 0 0 0 0 0 \n",
      "0 0 0 0 0 0 0 0 \n",
      "0 0 0 0 0 0 0 0 \n",
      "\n",
      "0 0 0 0 0 0 0 0 \n",
      "0 0 0 0 0 0 0 0 \n",
      "0 0 0 0 0 0 0 0 \n",
      "0 0 0 0 0 0 0 0 \n",
      "0 0 0 1 0 0 0 0 \n",
      "0 0 0 0 1 0 0 0 \n",
      "0 0 0 0 0 0 0 0 \n",
      "0 0 0 0 0 0 0 0 \n",
      "\n",
      "East\n",
      "0000000000000000000000000001000000001000000000000000000000000000\n",
      "0000000000000000000000000010000000010000000000000000000000000000\n",
      "0 0 0 0 0 0 0 0 \n",
      "0 0 0 0 0 0 0 0 \n",
      "0 0 0 0 0 0 0 0 \n",
      "0 0 0 1 0 0 0 0 \n",
      "0 0 0 0 1 0 0 0 \n",
      "0 0 0 0 0 0 0 0 \n",
      "0 0 0 0 0 0 0 0 \n",
      "0 0 0 0 0 0 0 0 \n",
      "\n",
      "0 0 0 0 0 0 0 0 \n",
      "0 0 0 0 0 0 0 0 \n",
      "0 0 0 0 0 0 0 0 \n",
      "0 0 0 0 1 0 0 0 \n",
      "0 0 0 0 0 1 0 0 \n",
      "0 0 0 0 0 0 0 0 \n",
      "0 0 0 0 0 0 0 0 \n",
      "0 0 0 0 0 0 0 0 \n",
      "\n",
      "West\n",
      "0000000000000000000000000001000000001000000000000000000000000000\n",
      "0000000000000000000000000000100000000100000000000000000000000000\n",
      "0 0 0 0 0 0 0 0 \n",
      "0 0 0 0 0 0 0 0 \n",
      "0 0 0 0 0 0 0 0 \n",
      "0 0 0 1 0 0 0 0 \n",
      "0 0 0 0 1 0 0 0 \n",
      "0 0 0 0 0 0 0 0 \n",
      "0 0 0 0 0 0 0 0 \n",
      "0 0 0 0 0 0 0 0 \n",
      "\n",
      "0 0 0 0 0 0 0 0 \n",
      "0 0 0 0 0 0 0 0 \n",
      "0 0 0 0 0 0 0 0 \n",
      "0 0 1 0 0 0 0 0 \n",
      "0 0 0 1 0 0 0 0 \n",
      "0 0 0 0 0 0 0 0 \n",
      "0 0 0 0 0 0 0 0 \n",
      "0 0 0 0 0 0 0 0 \n"
     ]
    }
   ],
   "source": [
    "# Let's test the functions\n",
    "print(\"North\")\n",
    "print(f'{white:064b}')\n",
    "print(f'{N(white):064b}')\n",
    "print_pieces(white, board_size)\n",
    "print_pieces(N(white), board_size)\n",
    "\n",
    "print(\"South\")\n",
    "print(f'{white:064b}')\n",
    "print(f'{S(white):064b}')\n",
    "print_pieces(white, board_size)\n",
    "print_pieces(S(white), board_size)\n",
    "\n",
    "print(\"East\")\n",
    "print(f'{white:064b}')\n",
    "print(f'{E(white):064b}')\n",
    "print_pieces(white, board_size)\n",
    "print_pieces(E(white), board_size)\n",
    "\n",
    "print(\"West\")\n",
    "print(f'{white:064b}')\n",
    "print(f'{W(white):064b}')\n",
    "print_pieces(white, board_size)\n",
    "print_pieces(W(white), board_size)"
   ],
   "metadata": {
    "collapsed": false,
    "ExecuteTime": {
     "end_time": "2024-03-12T12:09:19.399400Z",
     "start_time": "2024-03-12T12:09:19.392706Z"
    }
   },
   "id": "9ff1d5c561f3a9b8",
   "execution_count": 119
  },
  {
   "cell_type": "markdown",
   "source": [
    "We can combine the previous functions to move diagonally :"
   ],
   "metadata": {
    "collapsed": false
   },
   "id": "ff250fa844ee31be"
  },
  {
   "cell_type": "code",
   "outputs": [],
   "source": [
    "def NW(x):\n",
    "    return N(W(x))\n",
    "def NE(x):\n",
    "    return N(E(x))\n",
    "def SW(x):\n",
    "    return S(W(x))\n",
    "def SE(x):\n",
    "    return S(E(x))"
   ],
   "metadata": {
    "collapsed": false,
    "ExecuteTime": {
     "end_time": "2024-03-12T12:09:19.417138Z",
     "start_time": "2024-03-12T12:09:19.413079Z"
    }
   },
   "id": "9d656a3440d85c28",
   "execution_count": 120
  },
  {
   "cell_type": "code",
   "outputs": [
    {
     "name": "stdout",
     "output_type": "stream",
     "text": [
      "North West\n",
      "0000000000000000000000000001000000001000000000000000000000000000\n",
      "0000000000000000000000000000000000001000000001000000000000000000\n",
      "0 0 0 0 0 0 0 0 \n",
      "0 0 0 0 0 0 0 0 \n",
      "0 0 0 0 0 0 0 0 \n",
      "0 0 0 1 0 0 0 0 \n",
      "0 0 0 0 1 0 0 0 \n",
      "0 0 0 0 0 0 0 0 \n",
      "0 0 0 0 0 0 0 0 \n",
      "0 0 0 0 0 0 0 0 \n",
      "\n",
      "0 0 0 0 0 0 0 0 \n",
      "0 0 0 0 0 0 0 0 \n",
      "0 0 1 0 0 0 0 0 \n",
      "0 0 0 1 0 0 0 0 \n",
      "0 0 0 0 0 0 0 0 \n",
      "0 0 0 0 0 0 0 0 \n",
      "0 0 0 0 0 0 0 0 \n",
      "0 0 0 0 0 0 0 0 \n",
      "\n",
      "North East\n",
      "0000000000000000000000000001000000001000000000000000000000000000\n",
      "0000000000000000000000000000000000100000000100000000000000000000\n",
      "0 0 0 0 0 0 0 0 \n",
      "0 0 0 0 0 0 0 0 \n",
      "0 0 0 0 0 0 0 0 \n",
      "0 0 0 1 0 0 0 0 \n",
      "0 0 0 0 1 0 0 0 \n",
      "0 0 0 0 0 0 0 0 \n",
      "0 0 0 0 0 0 0 0 \n",
      "0 0 0 0 0 0 0 0 \n",
      "\n",
      "0 0 0 0 0 0 0 0 \n",
      "0 0 0 0 0 0 0 0 \n",
      "0 0 0 0 1 0 0 0 \n",
      "0 0 0 0 0 1 0 0 \n",
      "0 0 0 0 0 0 0 0 \n",
      "0 0 0 0 0 0 0 0 \n",
      "0 0 0 0 0 0 0 0 \n",
      "0 0 0 0 0 0 0 0 \n",
      "\n",
      "South West\n",
      "0000000000000000000000000001000000001000000000000000000000000000\n",
      "0000000000000000000010000000010000000000000000000000000000000000\n",
      "0 0 0 0 0 0 0 0 \n",
      "0 0 0 0 0 0 0 0 \n",
      "0 0 0 0 0 0 0 0 \n",
      "0 0 0 1 0 0 0 0 \n",
      "0 0 0 0 1 0 0 0 \n",
      "0 0 0 0 0 0 0 0 \n",
      "0 0 0 0 0 0 0 0 \n",
      "0 0 0 0 0 0 0 0 \n",
      "\n",
      "0 0 0 0 0 0 0 0 \n",
      "0 0 0 0 0 0 0 0 \n",
      "0 0 0 0 0 0 0 0 \n",
      "0 0 0 0 0 0 0 0 \n",
      "0 0 1 0 0 0 0 0 \n",
      "0 0 0 1 0 0 0 0 \n",
      "0 0 0 0 0 0 0 0 \n",
      "0 0 0 0 0 0 0 0 \n",
      "\n",
      "South East\n",
      "0000000000000000000000000001000000001000000000000000000000000000\n",
      "0000000000000000001000000001000000000000000000000000000000000000\n",
      "0 0 0 0 0 0 0 0 \n",
      "0 0 0 0 0 0 0 0 \n",
      "0 0 0 0 0 0 0 0 \n",
      "0 0 0 1 0 0 0 0 \n",
      "0 0 0 0 1 0 0 0 \n",
      "0 0 0 0 0 0 0 0 \n",
      "0 0 0 0 0 0 0 0 \n",
      "0 0 0 0 0 0 0 0 \n",
      "\n",
      "0 0 0 0 0 0 0 0 \n",
      "0 0 0 0 0 0 0 0 \n",
      "0 0 0 0 0 0 0 0 \n",
      "0 0 0 0 0 0 0 0 \n",
      "0 0 0 0 1 0 0 0 \n",
      "0 0 0 0 0 1 0 0 \n",
      "0 0 0 0 0 0 0 0 \n",
      "0 0 0 0 0 0 0 0 \n"
     ]
    }
   ],
   "source": [
    "# Let's test the functions\n",
    "print(\"North West\")\n",
    "print(f'{white:064b}')\n",
    "print(f'{NW(white):064b}')\n",
    "print_pieces(white, board_size)\n",
    "print_pieces(NW(white), board_size)\n",
    "\n",
    "print(\"North East\")\n",
    "print(f'{white:064b}')\n",
    "print(f'{NE(white):064b}')\n",
    "print_pieces(white, board_size)\n",
    "print_pieces(NE(white), board_size)\n",
    "\n",
    "print(\"South West\")\n",
    "print(f'{white:064b}')\n",
    "print(f'{SW(white):064b}')\n",
    "print_pieces(white, board_size)\n",
    "print_pieces(SW(white), board_size)\n",
    "\n",
    "print(\"South East\")\n",
    "print(f'{white:064b}')\n",
    "print(f'{SE(white):064b}')\n",
    "print_pieces(white, board_size)\n",
    "print_pieces(SE(white), board_size)"
   ],
   "metadata": {
    "collapsed": false,
    "ExecuteTime": {
     "end_time": "2024-03-12T12:09:19.475044Z",
     "start_time": "2024-03-12T12:09:19.465969Z"
    }
   },
   "id": "77ef3caa37aecde4",
   "execution_count": 121
  },
  {
   "cell_type": "markdown",
   "source": [
    "Using these functions, we can generate the possible moves all at once for each direction."
   ],
   "metadata": {
    "collapsed": false
   },
   "id": "933bec81852e6462"
  },
  {
   "cell_type": "code",
   "outputs": [],
   "source": [
    "# Generate possible moves\n",
    "def generate_moves(own, enemy, size) -> tuple[list, dict]:\n",
    "    \"\"\"Generate the possible moves for the current player using bitwise operations\"\"\"\n",
    "    empty = ~(own | enemy)  # Empty squares (not owned by either player)\n",
    "    unique_moves = []  # List of possible moves\n",
    "    dir_jump = {}  # Dictionary of moves and the number of pieces that can be captured in each direction\n",
    "\n",
    "    # Generate moves in all eight directions\n",
    "    for direction in [N, S, E, W, NW, NE, SW, SE]:\n",
    "        # We get the pieces that are next to an enemy piece in the direction\n",
    "        count = 0\n",
    "        victims = direction(own) & enemy\n",
    "        if not victims:\n",
    "            continue\n",
    "\n",
    "        # We keep getting the pieces that are next to an enemy piece in the direction\n",
    "        for _ in range(size):\n",
    "            count += 1\n",
    "            next_piece = direction(victims) & enemy\n",
    "            if not next_piece:\n",
    "                break\n",
    "            victims |= next_piece\n",
    "\n",
    "        # We get the pieces that can be captured in the direction\n",
    "        captures = direction(victims) & empty\n",
    "        # if there are multiple pieces in captures, we separate them and add them to the set\n",
    "        while captures:\n",
    "            capture = captures & -captures  # get the least significant bit\n",
    "            captures ^= capture  # remove the lsb\n",
    "            if capture not in dir_jump:\n",
    "                unique_moves.append(capture)\n",
    "                dir_jump[capture] = []\n",
    "            dir_jump[capture].append((direction, count))\n",
    "\n",
    "    return unique_moves, dir_jump"
   ],
   "metadata": {
    "collapsed": false,
    "ExecuteTime": {
     "end_time": "2024-03-12T12:09:19.489784Z",
     "start_time": "2024-03-12T12:09:19.482863Z"
    }
   },
   "id": "99e0d89f5ac19650",
   "execution_count": 122
  },
  {
   "cell_type": "markdown",
   "source": [
    "We keep a dictionary of moves and the number of pieces that can be captured in each direction. This will be useful when we want to play a move and update the board. This allows us to know exactly when to stop\n",
    "\n",
    "We can directly determine if a direction has possible moves using the following expression :\n",
    "\\begin{equation}\n",
    "victims = direction(own)\\quad \\& \\quad enemy\n",
    "\\end{equation}\n",
    "Indeed when moving the current player's pieces in a certain direction, if it overlaps with the enemy's pieces  it means that the direction is a candidate for a move. If it doesn't overlap, then there are no possible moves in that direction : we can skip it.\n",
    "\n",
    "Then, we can continue to get the pieces in that directions as long as at least one bit is overlapping with the enemy's pieces, while incrementing a counter. Once this is not the case, we can stop and get the pieces that can be captured in that direction using the following expression :\n",
    "\\begin{equation}\n",
    "captures = direction(victims)\\quad \\& \\quad empty\n",
    "\\end{equation}\n",
    "We only need to verify the last condition, does the directions finishes on an empty square ? If it does, then we can add the move to the list of possible moves and add the direction and the number of pieces that can be captured to the dictionary.\n",
    "\n",
    "If we want to store the moves separately, we can use the following expression :\n",
    "\\begin{equation}\n",
    "capture &= captures \\quad \\& \\quad -captures \\\\\n",
    "captures &= captures \\quad XOR \\quad capture\n",
    "\\end{equation}\n",
    "The first line gets the LSB of the bitboard, and the second line removes the LSB from the captures. We can then add the capture to the list of possible moves and remove it from the captures. We can continue to do this until the captures are empty. "
   ],
   "metadata": {
    "collapsed": false
   },
   "id": "cda48dd8a9a4774d"
  },
  {
   "cell_type": "code",
   "outputs": [
    {
     "name": "stdout",
     "output_type": "stream",
     "text": [
      "0 0 0 0 0 0 0 0 \n",
      "0 0 0 0 0 0 0 0 \n",
      "0 0 0 0 1 0 0 0 \n",
      "0 0 0 0 0 1 0 0 \n",
      "0 0 1 0 0 0 0 0 \n",
      "0 0 0 1 0 0 0 0 \n",
      "0 0 0 0 0 0 0 0 \n",
      "0 0 0 0 0 0 0 0 \n"
     ]
    }
   ],
   "source": [
    "# Generate possible moves for white\n",
    "white_moves, directions_white = generate_moves(white, black, board_size)\n",
    "all_w_moves = 0\n",
    "for move in white_moves:\n",
    "    all_w_moves |= move\n",
    "print_pieces(all_w_moves, board_size)"
   ],
   "metadata": {
    "collapsed": false,
    "ExecuteTime": {
     "end_time": "2024-03-12T12:09:19.498594Z",
     "start_time": "2024-03-12T12:09:19.491745Z"
    }
   },
   "id": "46244d1cd40459c",
   "execution_count": 123
  },
  {
   "cell_type": "markdown",
   "source": [
    "Now that we have all the possible moves for a player, we need a function to apply one of them once it has been chosen. We can use the following function to do so :"
   ],
   "metadata": {
    "collapsed": false
   },
   "id": "35b351066b937ed0"
  },
  {
   "cell_type": "code",
   "outputs": [],
   "source": [
    "def make_move(own, enemy, move_to_play, directions):\n",
    "    \"\"\"Make the move and update the board using bitwise operations.\"\"\"\n",
    "    for direction, count in directions[move_to_play]:\n",
    "        victims = move_to_play  # Init the victims with the move to play\n",
    "\n",
    "        op_dir = opposite_dir(direction)  # opposite direction since we go from the move to play to the captured pieces\n",
    "        for _ in range(count):\n",
    "            victims |= (op_dir(victims) & enemy)\n",
    "        own ^= victims\n",
    "        enemy ^= victims & ~move_to_play\n",
    "    # because of the XOR, the move to play which is considered a victim can be returned a pair number of times\n",
    "    own |= move_to_play\n",
    "    return own, enemy\n",
    "\n",
    "opposite_direction = {N: S, S: N, E: W, W: E, NW: SE,\n",
    "                      NE: SW,\n",
    "                      SW: NE, SE: NW}\n",
    "\n",
    "\n",
    "def opposite_dir(direction):\n",
    "    return opposite_direction[direction]"
   ],
   "metadata": {
    "collapsed": false,
    "ExecuteTime": {
     "end_time": "2024-03-12T12:09:19.517832Z",
     "start_time": "2024-03-12T12:09:19.510319Z"
    }
   },
   "id": "b03607a2a51ab207",
   "execution_count": 124
  },
  {
   "cell_type": "markdown",
   "source": [
    "It is quite straightforward to understand the make_move function : \n",
    "\n",
    "We first initialize the victims with the move to play. Then we get the opposite direction of the direction in which the move to play was made. That is because instead of starting from the owned stones and going in a candidate direction, we start from the move to play and go in the opposite direction to get the pieces that can be captured. \n",
    "\n",
    "We then continue to get the pieces that can be captured in the direction until we have the number of pieces that can be captured.  \n",
    "\n",
    "We then update the board using the XOR operator :\n",
    "- We add the move to play to the owned pieces\n",
    "- We remove the pieces that can be captured from the enemy's pieces\n",
    "\n",
    "Because multiples direction are possible for a given move, the XOR operator can turn over a stone a pair number of times. We solve this, by using the OR operator at the end to be sure that the move to play is present in the owned pieces.\n",
    "\n",
    "For a similar reason, we remove the move to play from the captured stones when XORing the enemy with the pieces that can be captured."
   ],
   "metadata": {
    "collapsed": false
   },
   "id": "abbf490ea82baf75"
  },
  {
   "cell_type": "code",
   "outputs": [
    {
     "name": "stdout",
     "output_type": "stream",
     "text": [
      "Black Moves\n",
      "Black plays 0000000000000000000000000010000000000000000000000000000000000000\n",
      "0 0 0 0 0 0 0 0 \n",
      "0 0 0 0 0 0 0 0 \n",
      "0 0 0 0 0 0 0 0 \n",
      "0 0 0 0 0 0 0 0 \n",
      "0 0 0 0 0 1 0 0 \n",
      "0 0 0 0 0 0 0 0 \n",
      "0 0 0 0 0 0 0 0 \n",
      "0 0 0 0 0 0 0 0 \n",
      "\n",
      "Black Pieces\n",
      "0 0 0 0 0 0 0 0 \n",
      "0 0 0 0 0 0 0 0 \n",
      "0 0 0 0 0 0 0 0 \n",
      "0 0 0 0 1 0 0 0 \n",
      "0 0 0 1 1 1 0 0 \n",
      "0 0 0 0 0 0 0 0 \n",
      "0 0 0 0 0 0 0 0 \n",
      "0 0 0 0 0 0 0 0 \n",
      "\n",
      "White Pieces\n",
      "0 0 0 0 0 0 0 0 \n",
      "0 0 0 0 0 0 0 0 \n",
      "0 0 0 0 0 0 0 0 \n",
      "0 0 0 1 0 0 0 0 \n",
      "0 0 0 0 0 0 0 0 \n",
      "0 0 0 0 0 0 0 0 \n",
      "0 0 0 0 0 0 0 0 \n",
      "0 0 0 0 0 0 0 0 \n",
      "\n",
      "Board\n",
      ". . . . . . . . \n",
      ". . . . . . . . \n",
      ". . . . . . . . \n",
      ". . . W B . . . \n",
      ". . . B B B . . \n",
      ". . . . . . . . \n",
      ". . . . . . . . \n",
      ". . . . . . . . \n"
     ]
    }
   ],
   "source": [
    "import random\n",
    "\n",
    "# Let's test the function by letting Black start and then Play.\n",
    "black_moves, directions_black = generate_moves(black, white, board_size)\n",
    "print(\"Black Moves\")\n",
    "\n",
    "move = random.choice(black_moves)\n",
    "print(f\"Black plays {move:064b}\")\n",
    "print_pieces(move, board_size)\n",
    "black, white = make_move(black, white, move, directions_black)\n",
    "print(\"Black Pieces\")\n",
    "print_pieces(black, board_size)\n",
    "print(\"White Pieces\")\n",
    "print_pieces(white, board_size)\n",
    "print(\"Board\")\n",
    "print_board(white, black, board_size)"
   ],
   "metadata": {
    "collapsed": false,
    "ExecuteTime": {
     "end_time": "2024-03-12T12:09:19.549275Z",
     "start_time": "2024-03-12T12:09:19.541275Z"
    }
   },
   "id": "3b3b6dd137ebccdb",
   "execution_count": 125
  },
  {
   "cell_type": "markdown",
   "source": [
    "### Testing a heuristic function"
   ],
   "metadata": {
    "collapsed": false
   },
   "id": "d5df2fa335180e7f"
  },
  {
   "cell_type": "markdown",
   "source": [
    "We need a way to evaluate the quality of a position to not play randomly but strategically. We can use a heuristic function to do so."
   ],
   "metadata": {
    "collapsed": false
   },
   "id": "391c6577a20bba67"
  },
  {
   "cell_type": "code",
   "outputs": [],
   "source": [
    "import numpy as np\n",
    "\n",
    "TABLE1 = np.array([\n",
    "    500, -150, 30, 10, 10, 30, -150, 500,\n",
    "    -150, -250, 0, 0, 0, 0, -250, -150,\n",
    "    30, 0, 1, 2, 2, 1, 0, 30,\n",
    "    10, 0, 2, 16, 16, 2, 0, 10,\n",
    "    10, 0, 2, 16, 16, 2, 0, 10,\n",
    "    30, 0, 1, 2, 2, 1, 0, 30,\n",
    "    -150, -250, 0, 0, 0, 0, -250, -150,\n",
    "    500, -150, 30, 10, 10, 30, -150, 500\n",
    "])\n",
    "\n",
    "def positional(own, enemy, size, table=TABLE1):\n",
    "    \"\"\"Evaluate the quality of a position by compute a Weighted sum of the pieces using a predefined table\"\"\"\n",
    "    # Convert the binary representations to boolean masks\n",
    "    own_mask = np.array([bool(own & (1 << i)) for i in range(size*size)])\n",
    "    enemy_mask = np.array([bool(enemy & (1 << i)) for i in range(size*size)])\n",
    "    \n",
    "    # Apply the masks to the table and sum the values\n",
    "    sum1 = np.sum(table[own_mask])\n",
    "    sum2 = np.sum(table[enemy_mask])\n",
    "    \n",
    "    return sum1 - sum2\n",
    "\n",
    "def absolute(own: int, enemy: int):\n",
    "    \"\"\"Compute the difference between the number of pieces of the current player and the other player\"\"\"\n",
    "    return cell_count(own) - cell_count(enemy)\n",
    "\n",
    "def mobility(own: int, enemy: int, size: int):\n",
    "    \"\"\"Compute the difference between the number of possible moves for the current player and the other player\"\"\"\n",
    "    own_moves, _ = generate_moves(own, enemy, size)\n",
    "    enemy_moves, _ = generate_moves(enemy, own, size)\n",
    "    return len(own_moves) - len(enemy_moves)"
   ],
   "metadata": {
    "collapsed": false,
    "ExecuteTime": {
     "end_time": "2024-03-12T12:09:19.569164Z",
     "start_time": "2024-03-12T12:09:19.560993Z"
    }
   },
   "id": "1364c1ac20460492",
   "execution_count": 126
  },
  {
   "cell_type": "code",
   "outputs": [
    {
     "name": "stdout",
     "output_type": "stream",
     "text": [
      "Board\n",
      "B . . . . . . . \n",
      ". . . . . . . . \n",
      ". . . . . . . . \n",
      ". . . . . . . . \n",
      ". . . . . . . . \n",
      ". . . . . . . . \n",
      ". . . . . . . . \n",
      "W W . . . . . . \n",
      "\n",
      "Positional : -150\n",
      "Absolute : 1\n",
      "Mobility : 0\n"
     ]
    }
   ],
   "source": [
    "own_pieces = 0x03_00_00_00_00_00_00_00 \n",
    "enemy_pieces = 0x00_00_00_00_00_00_00_01\n",
    "print(\"Board\")\n",
    "print_board(own_pieces, enemy_pieces, board_size)\n",
    "\n",
    "result_positional = positional(own_pieces, enemy_pieces, board_size)\n",
    "result_absolute = absolute(own_pieces, enemy_pieces)\n",
    "result_mobility = mobility(own_pieces, enemy_pieces, board_size)\n",
    "\n",
    "print(f\"Positional : {result_positional}\") # -150 = (500 - 150) - 500 : 500 for the corners and -150 for the stone next to it.\n",
    "print(f\"Absolute : {result_absolute}\")  # 1 = 2 - 1 because the current player has 2 pieces and the other player has 1\n",
    "print(f\"Mobility : {result_mobility}\")  # 0 = 0 - 0 because both player have no possible moves"
   ],
   "metadata": {
    "collapsed": false,
    "ExecuteTime": {
     "end_time": "2024-03-12T12:09:19.612551Z",
     "start_time": "2024-03-12T12:09:19.606277Z"
    }
   },
   "id": "2693fd7483e0ca27",
   "execution_count": 127
  },
  {
   "cell_type": "markdown",
   "source": [
    "# END OF DOCUMENT"
   ],
   "metadata": {
    "collapsed": false
   },
   "id": "dff5397c2c405336"
  },
  {
   "cell_type": "code",
   "outputs": [],
   "source": [
    "def read_stat_moves(path = \"moves.txt\"):\n",
    "    # read the csv file\n",
    "    average = 0\n",
    "    with open(path, 'r') as file:\n",
    "        data = file.read()\n",
    "        data = data.split('\\n')\n",
    "        size_f = len(data)\n",
    "        for i, line in enumerate(data):\n",
    "            if line == '':\n",
    "                continue\n",
    "            average += int(line)\n",
    "    average /= size_f\n",
    "    print(average)\n",
    "    print(size_f)"
   ],
   "metadata": {
    "collapsed": false,
    "ExecuteTime": {
     "end_time": "2024-03-12T12:09:19.627648Z",
     "start_time": "2024-03-12T12:09:19.623302Z"
    }
   },
   "id": "65d19218de8a6552",
   "execution_count": 128
  },
  {
   "cell_type": "code",
   "outputs": [],
   "source": [],
   "metadata": {
    "collapsed": false,
    "ExecuteTime": {
     "end_time": "2024-03-12T12:09:19.646891Z",
     "start_time": "2024-03-12T12:09:19.642304Z"
    }
   },
   "id": "740d7c8e2fedf384",
   "execution_count": 128
  }
 ],
 "metadata": {
  "kernelspec": {
   "display_name": "Python 3",
   "language": "python",
   "name": "python3"
  },
  "language_info": {
   "codemirror_mode": {
    "name": "ipython",
    "version": 2
   },
   "file_extension": ".py",
   "mimetype": "text/x-python",
   "name": "python",
   "nbconvert_exporter": "python",
   "pygments_lexer": "ipython2",
   "version": "2.7.6"
  }
 },
 "nbformat": 4,
 "nbformat_minor": 5
}
