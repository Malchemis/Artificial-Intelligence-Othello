{
 "cells": [
  {
   "cell_type": "markdown",
   "source": [
    "### Understanding the most efficient way to generate the next possible moves in a game of Reversi/Othello using Bitboards and Bitwise Operations\n",
    "\n",
    "Date : 2024-03-04\n",
    "Author : Malchemis\n"
   ],
   "metadata": {
    "collapsed": false
   },
   "id": "2ed8b0ae12660ea8"
  },
  {
   "cell_type": "code",
   "outputs": [],
   "source": [
    "# Constants and Variables\n",
    "size = 8\n",
    "white_pieces = 0\n",
    "black_pieces = 0\n",
    "\n",
    "def set_state(bitboard: int, x: int, y: int, size: int):\n",
    "    \"\"\"Add a bit to the board by shifting a 1 to the left by x * size + y (flattened coordinates)\"\"\"\n",
    "    return bitboard | (1 << (x * size + y))\n",
    "\n",
    "\n",
    "def cell_count(bitboard: int):\n",
    "    \"\"\"Count the number of cells in the board\"\"\"\n",
    "    return bitboard.bit_count()\n",
    "\n",
    "\n",
    "def bits(number):\n",
    "    \"\"\"Generator to get the bits of a number\"\"\"\n",
    "    bit = 1\n",
    "    while number >= bit:\n",
    "        if number & bit:\n",
    "            yield bit\n",
    "        bit <<= 1\n",
    "\n",
    "\n",
    "def get_state(bitboard: int, x: int, y: int, size: int):\n",
    "    \"\"\"Return the state of the cell by shifting the board to the right by x * size + y and\n",
    "    taking the least significant bit\"\"\"\n",
    "    return (bitboard >> (x * size + y)) & 1\n",
    "\n",
    "\n",
    "def get_indexes_move(move: int, size: int):\n",
    "    \"\"\"Return i and j indexes of the bitboard for a possible move\"\"\"\n",
    "    position = move.bit_length() - 1\n",
    "    # Calculate row and column indexes from the position\n",
    "    i = position // size\n",
    "    j = position % size\n",
    "    return i, j\n",
    "\n",
    "\n",
    "def print_pieces(bitboard: int, size: int):\n",
    "    \"\"\"Print the bit values of the board as a matrix of 0 and 1\"\"\"\n",
    "    for i in range(size):\n",
    "        for j in range(size):\n",
    "            print(get_state(bitboard, i, j, size), end=' ')\n",
    "        print()\n",
    "    print()\n",
    "\n",
    "\n",
    "def print_board(white: int, black: int, size: int):\n",
    "    \"\"\"Print the board with W for white, B for black and . for empty cells\"\"\"\n",
    "    for i in range(size):\n",
    "        for j in range(size):\n",
    "            if get_state(white, i, j, size):\n",
    "                print('W', end=' ')\n",
    "            elif get_state(black, i, j, size):\n",
    "                print('B', end=' ')\n",
    "            else:\n",
    "                print('.', end=' ')\n",
    "        print()\n",
    "    print()\n",
    "\n",
    "# init the pieces\n",
    "white_pieces = set_state(white_pieces, 3, 3, size)\n",
    "white_pieces = set_state(white_pieces, 4, 4, size)\n",
    "black_pieces = set_state(black_pieces, 3, 4, size)\n",
    "black_pieces = set_state(black_pieces, 4, 3, size)"
   ],
   "metadata": {
    "collapsed": false,
    "ExecuteTime": {
     "end_time": "2024-03-08T15:34:04.505934Z",
     "start_time": "2024-03-08T15:34:04.483574Z"
    }
   },
   "id": "27a4fa1d22f02261",
   "execution_count": 9
  },
  {
   "cell_type": "code",
   "outputs": [
    {
     "name": "stdout",
     "output_type": "stream",
     "text": [
      "White Pieces\n",
      "0 0 0 0 0 0 0 0 \n",
      "0 0 0 0 0 0 0 0 \n",
      "0 0 0 0 0 0 0 0 \n",
      "0 0 0 1 0 0 0 0 \n",
      "0 0 0 0 1 0 0 0 \n",
      "0 0 0 0 0 0 0 0 \n",
      "0 0 0 0 0 0 0 0 \n",
      "0 0 0 0 0 0 0 0 \n",
      "\n",
      "Black Pieces\n",
      "0 0 0 0 0 0 0 0 \n",
      "0 0 0 0 0 0 0 0 \n",
      "0 0 0 0 0 0 0 0 \n",
      "0 0 0 0 1 0 0 0 \n",
      "0 0 0 1 0 0 0 0 \n",
      "0 0 0 0 0 0 0 0 \n",
      "0 0 0 0 0 0 0 0 \n",
      "0 0 0 0 0 0 0 0 \n",
      "\n",
      "Board\n",
      ". . . . . . . . \n",
      ". . . . . . . . \n",
      ". . . . . . . . \n",
      ". . . W B . . . \n",
      ". . . B W . . . \n",
      ". . . . . . . . \n",
      ". . . . . . . . \n",
      ". . . . . . . . \n"
     ]
    }
   ],
   "source": [
    "print(\"White Pieces\")\n",
    "print_pieces(white_pieces, size)\n",
    "print(\"Black Pieces\")\n",
    "print_pieces(black_pieces, size)\n",
    "print(\"Board\")\n",
    "print_board(white_pieces, black_pieces, size)"
   ],
   "metadata": {
    "collapsed": false,
    "ExecuteTime": {
     "end_time": "2024-03-08T15:34:04.558098Z",
     "start_time": "2024-03-08T15:34:04.546453Z"
    }
   },
   "id": "1acfa10c9a4b7fbf",
   "execution_count": 10
  },
  {
   "cell_type": "code",
   "outputs": [
    {
     "name": "stdout",
     "output_type": "stream",
     "text": [
      "White Pieces\n",
      "0000000000000000000000000001000000001000000000000000000000000000\n",
      "Black Pieces\n",
      "0000000000000000000000000000100000010000000000000000000000000000\n"
     ]
    }
   ],
   "source": [
    "# in binary\n",
    "print(\"White Pieces\")\n",
    "print(f'{white_pieces:064b}')\n",
    "print(\"Black Pieces\")\n",
    "print(f'{black_pieces:064b}')"
   ],
   "metadata": {
    "collapsed": false,
    "ExecuteTime": {
     "end_time": "2024-03-08T15:34:04.625282Z",
     "start_time": "2024-03-08T15:34:04.615824Z"
    }
   },
   "id": "5138d6e4fc8c50c0",
   "execution_count": 11
  },
  {
   "cell_type": "code",
   "outputs": [],
   "source": [
    "# Generate possible moves\n",
    "from typing import Tuple\n",
    "\n",
    "def generate_moves(own, enemy, size) -> Tuple[list, dict]:\n",
    "    \"\"\"Generate the possible moves for the current player using bitwise operations\"\"\"\n",
    "    empty = ~(own | enemy)  # Empty squares (not owned by either player)\n",
    "    unique_moves = []  # List of possible moves\n",
    "    dir_jump = {}  # Dictionary of moves and the number of pieces that can be captured in each direction\n",
    "\n",
    "    # Generate moves in all eight directions\n",
    "    for direction in [N, S, E, W, NW, NE, SW, SE]:\n",
    "        # We get the pieces that are next to an enemy piece in the direction\n",
    "        count = 0\n",
    "        victims = direction(own) & enemy\n",
    "        if not victims:\n",
    "            continue\n",
    "\n",
    "        # We keep getting the pieces that are next to an enemy piece in the direction\n",
    "        for _ in range(size):\n",
    "            count += 1\n",
    "            next_piece = direction(victims) & enemy\n",
    "            if not next_piece:\n",
    "                break\n",
    "            victims |= next_piece\n",
    "\n",
    "        # We get the pieces that can be captured in the direction\n",
    "        captures = direction(victims) & empty\n",
    "        # if there are multiple pieces in captures, we separate them and add them to the set\n",
    "        while captures:\n",
    "            capture = captures & -captures  # get the least significant bit\n",
    "            captures ^= capture  # remove the lsb\n",
    "            if capture not in dir_jump:\n",
    "                unique_moves.append(capture)\n",
    "                dir_jump[capture] = []\n",
    "            dir_jump[capture].append((direction, count))\n",
    "\n",
    "    return unique_moves, dir_jump\n",
    "\n",
    "\n",
    "def make_move(own, enemy, move_to_play, directions, size):\n",
    "    \"\"\"Make the move and update the board using bitwise operations.\"\"\"\n",
    "    for direction, count in directions[move_to_play]:\n",
    "        victims = move_to_play  # Init the victims with the move to play\n",
    "\n",
    "        op_dir = opposite_dir(direction)  # opposite direction since we go from the move to play to the captured pieces\n",
    "        for _ in range(count):\n",
    "            victims |= (op_dir(victims) & enemy)\n",
    "        own ^= victims\n",
    "        enemy ^= victims & ~move_to_play\n",
    "    # because of the XOR, the move to play which is considered a victim can be returned a pair number of times\n",
    "    own |= move_to_play\n",
    "    return own, enemy\n",
    "\n",
    "\n",
    "def N(x):\n",
    "    return (x & 0x00ffffffffffffff) << 8\n",
    "\n",
    "\n",
    "def S(x):\n",
    "    return (x & 0xffffffffffffff00) >> 8\n",
    "\n",
    "\n",
    "def E(x):\n",
    "    return (x & 0x7f7f7f7f7f7f7f7f) << 1\n",
    "\n",
    "\n",
    "def W(x):\n",
    "    return (x & 0xfefefefefefefefe) >> 1\n",
    "\n",
    "\n",
    "def NW(x):\n",
    "    return N(W(x))\n",
    "\n",
    "\n",
    "def NE(x):\n",
    "    return N(E(x))\n",
    "\n",
    "\n",
    "def SW(x):\n",
    "    return S(W(x))\n",
    "\n",
    "\n",
    "def SE(x):\n",
    "    return S(E(x))\n",
    "\n",
    "\n",
    "def opposite_dir(direction):\n",
    "    if direction == N:\n",
    "        return S\n",
    "    if direction == S:\n",
    "        return N\n",
    "    if direction == E:\n",
    "        return W\n",
    "    if direction == W:\n",
    "        return E\n",
    "    if direction == NW:\n",
    "        return SE\n",
    "    if direction == NE:\n",
    "        return SW\n",
    "    if direction == SW:\n",
    "        return NE\n",
    "    if direction == SE:\n",
    "        return NW"
   ],
   "metadata": {
    "collapsed": false,
    "ExecuteTime": {
     "end_time": "2024-03-08T15:34:04.693662Z",
     "start_time": "2024-03-08T15:34:04.672387Z"
    }
   },
   "id": "99e0d89f5ac19650",
   "execution_count": 12
  },
  {
   "cell_type": "code",
   "outputs": [
    {
     "name": "stdout",
     "output_type": "stream",
     "text": [
      "White Possible Moves\n",
      "0 0 0 0 0 0 0 0 \n",
      "0 0 0 0 0 0 0 0 \n",
      "0 0 0 0 1 0 0 0 \n",
      "0 0 0 0 0 1 0 0 \n",
      "0 0 1 0 0 0 0 0 \n",
      "0 0 0 1 0 0 0 0 \n",
      "0 0 0 0 0 0 0 0 \n",
      "0 0 0 0 0 0 0 0 \n"
     ]
    }
   ],
   "source": [
    "# Generate possible moves for white\n",
    "print(\"White Possible Moves\")\n",
    "white_moves, directions = generate_moves(white_pieces, black_pieces, size)\n",
    "all_w_moves = 0\n",
    "for move in white_moves:\n",
    "    all_w_moves |= move\n",
    "print_pieces(all_w_moves, size)"
   ],
   "metadata": {
    "collapsed": false,
    "ExecuteTime": {
     "end_time": "2024-03-08T15:34:04.806845Z",
     "start_time": "2024-03-08T15:34:04.793502Z"
    }
   },
   "id": "264df31921ab5eaa",
   "execution_count": 13
  },
  {
   "cell_type": "code",
   "outputs": [
    {
     "name": "stdout",
     "output_type": "stream",
     "text": [
      "Black Possible Moves\n",
      "0 0 0 0 0 0 0 0 \n",
      "0 0 0 0 0 0 0 0 \n",
      "0 0 0 1 0 0 0 0 \n",
      "0 0 1 0 0 0 0 0 \n",
      "0 0 0 0 0 1 0 0 \n",
      "0 0 0 0 1 0 0 0 \n",
      "0 0 0 0 0 0 0 0 \n",
      "0 0 0 0 0 0 0 0 \n"
     ]
    }
   ],
   "source": [
    "# Generate possible moves for black\n",
    "print(\"Black Possible Moves\")\n",
    "black_moves, directions = generate_moves(black_pieces, white_pieces, size)\n",
    "all_b_moves = 0\n",
    "for move in black_moves:\n",
    "    all_b_moves |= move\n",
    "print_pieces(all_b_moves, size)"
   ],
   "metadata": {
    "collapsed": false,
    "ExecuteTime": {
     "end_time": "2024-03-08T15:34:04.957331Z",
     "start_time": "2024-03-08T15:34:04.944481Z"
    }
   },
   "id": "80d925056d29f199",
   "execution_count": 14
  },
  {
   "cell_type": "code",
   "outputs": [],
   "source": [
    "def play(own, enemy, move_to_play, direction, n_jump):\n",
    "    # The move is guaranteed to be valid, so we don't need to check for it\n",
    "    victims = direction(own) & enemy            # initial victims\n",
    "    for _ in range(n_jump - 1):                 # Maximum of n_jump - 1 steps in the direction\n",
    "        victims |= direction(victims) & enemy   # add to the victims the next opponent piece\n",
    "    own |= move_to_play | victims\n",
    "    enemy &= ~victims\n",
    "    return own, enemy"
   ],
   "metadata": {
    "collapsed": false,
    "ExecuteTime": {
     "end_time": "2024-03-08T15:34:05.082645Z",
     "start_time": "2024-03-08T15:34:05.071Z"
    }
   },
   "id": "615d920f8c932607",
   "execution_count": 15
  },
  {
   "cell_type": "code",
   "outputs": [
    {
     "ename": "ValueError",
     "evalue": "not enough values to unpack (expected 2, got 1)",
     "output_type": "error",
     "traceback": [
      "\u001B[1;31m---------------------------------------------------------------------------\u001B[0m",
      "\u001B[1;31mValueError\u001B[0m                                Traceback (most recent call last)",
      "Cell \u001B[1;32mIn[16], line 3\u001B[0m\n\u001B[0;32m      1\u001B[0m \u001B[38;5;66;03m# Play a move for black\u001B[39;00m\n\u001B[0;32m      2\u001B[0m move \u001B[38;5;241m=\u001B[39m black_moves[\u001B[38;5;241m0\u001B[39m]\n\u001B[1;32m----> 3\u001B[0m directions, n_jump \u001B[38;5;241m=\u001B[39m directions[move]\n\u001B[0;32m      4\u001B[0m \u001B[38;5;28mprint\u001B[39m(\u001B[38;5;124m\"\u001B[39m\u001B[38;5;124mBlack Move\u001B[39m\u001B[38;5;124m\"\u001B[39m)\n\u001B[0;32m      5\u001B[0m print_pieces(move, size)\n",
      "\u001B[1;31mValueError\u001B[0m: not enough values to unpack (expected 2, got 1)"
     ]
    }
   ],
   "source": [
    "# Play a move for black\n",
    "move = black_moves[0]\n",
    "directions, n_jump = directions[move]\n",
    "print(\"Black Move\")\n",
    "print_pieces(move, size)\n",
    "print(\"Board\")\n",
    "print_board(white_pieces, black_pieces, size)\n",
    "black_pieces, white_pieces = play(black_pieces, white_pieces, move, directions, n_jump)\n",
    "print(\"White pieces after black move\")\n",
    "print_board(0, black_pieces, size)\n",
    "print(\"Black pieces after black move\")\n",
    "print_board(white_pieces, 0, size)\n",
    "print(\"Board after black move\")\n",
    "print_board(white_pieces, black_pieces, size)"
   ],
   "metadata": {
    "collapsed": false,
    "ExecuteTime": {
     "end_time": "2024-03-08T15:34:05.255127Z",
     "start_time": "2024-03-08T15:34:05.220240Z"
    }
   },
   "id": "1dc8e4bf4a8108c1",
   "execution_count": 16
  },
  {
   "cell_type": "code",
   "outputs": [
    {
     "ename": "TypeError",
     "evalue": "generate_moves() missing 1 required positional argument: 'size'",
     "output_type": "error",
     "traceback": [
      "\u001B[1;31m---------------------------------------------------------------------------\u001B[0m",
      "\u001B[1;31mTypeError\u001B[0m                                 Traceback (most recent call last)",
      "Cell \u001B[1;32mIn[17], line 2\u001B[0m\n\u001B[0;32m      1\u001B[0m \u001B[38;5;66;03m# Play a move for white\u001B[39;00m\n\u001B[1;32m----> 2\u001B[0m moves, directions \u001B[38;5;241m=\u001B[39m \u001B[43mgenerate_moves\u001B[49m\u001B[43m(\u001B[49m\u001B[43mwhite_pieces\u001B[49m\u001B[43m,\u001B[49m\u001B[43m \u001B[49m\u001B[43mblack_pieces\u001B[49m\u001B[43m)\u001B[49m\n\u001B[0;32m      3\u001B[0m move \u001B[38;5;241m=\u001B[39m moves[\u001B[38;5;241m0\u001B[39m]\n\u001B[0;32m      4\u001B[0m directions, n_jump \u001B[38;5;241m=\u001B[39m directions[move]\n",
      "\u001B[1;31mTypeError\u001B[0m: generate_moves() missing 1 required positional argument: 'size'"
     ]
    }
   ],
   "source": [
    "# Play a move for white\n",
    "moves, directions = generate_moves(white_pieces, black_pieces)\n",
    "move = moves[0]\n",
    "directions, n_jump = directions[move]\n",
    "print(\"White Move\")\n",
    "print_pieces(move, size)\n",
    "print(\"Board\")\n",
    "print_board(white_pieces, black_pieces, size)\n",
    "white_pieces, black_pieces = play(white_pieces, black_pieces, move, directions, n_jump)\n",
    "print(\"White pieces after white move\")\n",
    "print_board(white_pieces, 0, size)\n",
    "print(\"Black pieces after white move\")\n",
    "print_board(0, black_pieces, size)\n",
    "print(\"Board after white move\")\n",
    "print_board(white_pieces, black_pieces, size)"
   ],
   "metadata": {
    "collapsed": false,
    "ExecuteTime": {
     "end_time": "2024-03-08T15:34:05.314503Z",
     "start_time": "2024-03-08T15:34:05.276532Z"
    }
   },
   "id": "296085e8213785ff",
   "execution_count": 17
  },
  {
   "cell_type": "code",
   "outputs": [
    {
     "ename": "TypeError",
     "evalue": "generate_moves() missing 1 required positional argument: 'size'",
     "output_type": "error",
     "traceback": [
      "\u001B[1;31m---------------------------------------------------------------------------\u001B[0m",
      "\u001B[1;31mTypeError\u001B[0m                                 Traceback (most recent call last)",
      "Cell \u001B[1;32mIn[18], line 2\u001B[0m\n\u001B[0;32m      1\u001B[0m \u001B[38;5;66;03m# Play a move for black\u001B[39;00m\n\u001B[1;32m----> 2\u001B[0m moves, directions \u001B[38;5;241m=\u001B[39m \u001B[43mgenerate_moves\u001B[49m\u001B[43m(\u001B[49m\u001B[43mblack_pieces\u001B[49m\u001B[43m,\u001B[49m\u001B[43m \u001B[49m\u001B[43mwhite_pieces\u001B[49m\u001B[43m)\u001B[49m\n\u001B[0;32m      3\u001B[0m move \u001B[38;5;241m=\u001B[39m moves[\u001B[38;5;241m0\u001B[39m]\n\u001B[0;32m      4\u001B[0m directions, n_jump \u001B[38;5;241m=\u001B[39m directions[move]\n",
      "\u001B[1;31mTypeError\u001B[0m: generate_moves() missing 1 required positional argument: 'size'"
     ]
    }
   ],
   "source": [
    "# Play a move for black\n",
    "moves, directions = generate_moves(black_pieces, white_pieces)\n",
    "move = moves[0]\n",
    "directions, n_jump = directions[move]\n",
    "print(\"Black Move\")\n",
    "print_pieces(move, size)\n",
    "print(\"Board\")\n",
    "print_board(white_pieces, black_pieces, size)\n",
    "black_pieces, white_pieces = play(black_pieces, white_pieces, move, directions, n_jump)\n",
    "print(\"White pieces after black move\")\n",
    "print_board(0, black_pieces, size)\n",
    "print(\"Black pieces after black move\")\n",
    "print_board(white_pieces, 0, size)\n",
    "print(\"Board after black move\")\n",
    "print_board(white_pieces, black_pieces, size)"
   ],
   "metadata": {
    "collapsed": false,
    "ExecuteTime": {
     "end_time": "2024-03-08T15:34:05.537194Z",
     "start_time": "2024-03-08T15:34:05.498410Z"
    }
   },
   "id": "aafee7215133147",
   "execution_count": 18
  },
  {
   "cell_type": "markdown",
   "source": [
    "### Testing a heuristic function"
   ],
   "metadata": {
    "collapsed": false
   },
   "id": "d5df2fa335180e7f"
  },
  {
   "cell_type": "code",
   "outputs": [
    {
     "name": "stdout",
     "output_type": "stream",
     "text": [
      "-150\n"
     ]
    }
   ],
   "source": [
    "import numpy as np\n",
    "\n",
    "TABLE1 = np.array([\n",
    "    500, -150, 30, 10, 10, 30, -150, 500,\n",
    "    -150, -250, 0, 0, 0, 0, -250, -150,\n",
    "    30, 0, 1, 2, 2, 1, 0, 30,\n",
    "    10, 0, 2, 16, 16, 2, 0, 10,\n",
    "    10, 0, 2, 16, 16, 2, 0, 10,\n",
    "    30, 0, 1, 2, 2, 1, 0, 30,\n",
    "    -150, -250, 0, 0, 0, 0, -250, -150,\n",
    "    500, -150, 30, 10, 10, 30, -150, 500\n",
    "])\n",
    "\n",
    "def heuristic(own, enemy, size, table=TABLE1):\n",
    "    # Convert the binary representations to boolean masks\n",
    "    own_mask = np.array([bool(own & (1 << i)) for i in range(size*size)])\n",
    "    enemy_mask = np.array([bool(enemy & (1 << i)) for i in range(size*size)])\n",
    "    \n",
    "    # Apply the masks to the table and sum the values\n",
    "    sum1 = np.sum(table[own_mask])\n",
    "    sum2 = np.sum(table[enemy_mask])\n",
    "    \n",
    "    return sum1 - sum2\n",
    "\n",
    "own = 0x03_00_00_00_00_00_00_00 # correspond to -150 points following the above table\n",
    "enemy = 0x00_00_00_00_00_00_00_01 # correspond to 500 points following the above table\n",
    "\n",
    "result = heuristic(own, enemy, 8)\n",
    "print(result)\n"
   ],
   "metadata": {
    "collapsed": false,
    "ExecuteTime": {
     "end_time": "2024-03-08T15:34:13.346058Z",
     "start_time": "2024-03-08T15:34:05.802077Z"
    }
   },
   "id": "1364c1ac20460492",
   "execution_count": 19
  },
  {
   "cell_type": "code",
   "outputs": [
    {
     "ename": "FileNotFoundError",
     "evalue": "[Errno 2] No such file or directory: 'moves.txt'",
     "output_type": "error",
     "traceback": [
      "\u001B[1;31m---------------------------------------------------------------------------\u001B[0m",
      "\u001B[1;31mFileNotFoundError\u001B[0m                         Traceback (most recent call last)",
      "Cell \u001B[1;32mIn[20], line 4\u001B[0m\n\u001B[0;32m      2\u001B[0m \u001B[38;5;66;03m# read the csv file\u001B[39;00m\n\u001B[0;32m      3\u001B[0m average \u001B[38;5;241m=\u001B[39m \u001B[38;5;241m0\u001B[39m\n\u001B[1;32m----> 4\u001B[0m \u001B[38;5;28;01mwith\u001B[39;00m \u001B[38;5;28;43mopen\u001B[39;49m\u001B[43m(\u001B[49m\u001B[43mpath\u001B[49m\u001B[43m,\u001B[49m\u001B[43m \u001B[49m\u001B[38;5;124;43m'\u001B[39;49m\u001B[38;5;124;43mr\u001B[39;49m\u001B[38;5;124;43m'\u001B[39;49m\u001B[43m)\u001B[49m \u001B[38;5;28;01mas\u001B[39;00m file:\n\u001B[0;32m      5\u001B[0m     data \u001B[38;5;241m=\u001B[39m file\u001B[38;5;241m.\u001B[39mread()\n\u001B[0;32m      6\u001B[0m     data \u001B[38;5;241m=\u001B[39m data\u001B[38;5;241m.\u001B[39msplit(\u001B[38;5;124m'\u001B[39m\u001B[38;5;130;01m\\n\u001B[39;00m\u001B[38;5;124m'\u001B[39m)\n",
      "File \u001B[1;32mF:\\Venv\\ia-fdmts\\Lib\\site-packages\\IPython\\core\\interactiveshell.py:324\u001B[0m, in \u001B[0;36m_modified_open\u001B[1;34m(file, *args, **kwargs)\u001B[0m\n\u001B[0;32m    317\u001B[0m \u001B[38;5;28;01mif\u001B[39;00m file \u001B[38;5;129;01min\u001B[39;00m {\u001B[38;5;241m0\u001B[39m, \u001B[38;5;241m1\u001B[39m, \u001B[38;5;241m2\u001B[39m}:\n\u001B[0;32m    318\u001B[0m     \u001B[38;5;28;01mraise\u001B[39;00m \u001B[38;5;167;01mValueError\u001B[39;00m(\n\u001B[0;32m    319\u001B[0m         \u001B[38;5;124mf\u001B[39m\u001B[38;5;124m\"\u001B[39m\u001B[38;5;124mIPython won\u001B[39m\u001B[38;5;124m'\u001B[39m\u001B[38;5;124mt let you open fd=\u001B[39m\u001B[38;5;132;01m{\u001B[39;00mfile\u001B[38;5;132;01m}\u001B[39;00m\u001B[38;5;124m by default \u001B[39m\u001B[38;5;124m\"\u001B[39m\n\u001B[0;32m    320\u001B[0m         \u001B[38;5;124m\"\u001B[39m\u001B[38;5;124mas it is likely to crash IPython. If you know what you are doing, \u001B[39m\u001B[38;5;124m\"\u001B[39m\n\u001B[0;32m    321\u001B[0m         \u001B[38;5;124m\"\u001B[39m\u001B[38;5;124myou can use builtins\u001B[39m\u001B[38;5;124m'\u001B[39m\u001B[38;5;124m open.\u001B[39m\u001B[38;5;124m\"\u001B[39m\n\u001B[0;32m    322\u001B[0m     )\n\u001B[1;32m--> 324\u001B[0m \u001B[38;5;28;01mreturn\u001B[39;00m \u001B[43mio_open\u001B[49m\u001B[43m(\u001B[49m\u001B[43mfile\u001B[49m\u001B[43m,\u001B[49m\u001B[43m \u001B[49m\u001B[38;5;241;43m*\u001B[39;49m\u001B[43margs\u001B[49m\u001B[43m,\u001B[49m\u001B[43m \u001B[49m\u001B[38;5;241;43m*\u001B[39;49m\u001B[38;5;241;43m*\u001B[39;49m\u001B[43mkwargs\u001B[49m\u001B[43m)\u001B[49m\n",
      "\u001B[1;31mFileNotFoundError\u001B[0m: [Errno 2] No such file or directory: 'moves.txt'"
     ]
    }
   ],
   "source": [
    "path = \"moves.txt\"\n",
    "# read the csv file\n",
    "average = 0\n",
    "with open(path, 'r') as file:\n",
    "    data = file.read()\n",
    "    data = data.split('\\n')\n",
    "    size_f = len(data)\n",
    "    for i, line in enumerate(data):\n",
    "        if line == '':\n",
    "            continue\n",
    "        average += int(line)\n",
    "average /= size_f\n",
    "print(average)\n",
    "print(size_f)"
   ],
   "metadata": {
    "collapsed": false,
    "ExecuteTime": {
     "end_time": "2024-03-08T15:34:13.536979Z",
     "start_time": "2024-03-08T15:34:13.349073Z"
    }
   },
   "id": "65d19218de8a6552",
   "execution_count": 20
  },
  {
   "cell_type": "code",
   "outputs": [],
   "source": [
    "white_pieces = 0b00100000_00000000_10100000_11100000_11111011_11111000_10001000_00000000\n",
    "black_pieces = 0b01000000_10100100_01001111_00011000_00000100_00000010_01100000_01000000\n",
    "\n",
    "moves, directions = generate_moves(black_pieces, white_pieces, 8)\n",
    "all_moves = 0\n",
    "for move in moves:\n",
    "    all_moves |= move\n",
    "\n",
    "print_board(white_pieces, black_pieces, 8)\n",
    "print_pieces(all_moves, size)\n",
    "print_pieces(white_pieces, size)\n",
    "print_pieces(black_pieces, size)\n",
    "print_pieces(white_pieces | black_pieces, size)"
   ],
   "metadata": {
    "collapsed": false
   },
   "id": "ae8706c16c4e44ad",
   "execution_count": null
  },
  {
   "cell_type": "code",
   "outputs": [],
   "source": [
    "def generate_random_board(size: int):\n",
    "    white_pieces = 0\n",
    "    black_pieces = 0\n",
    "    for i in range(size):\n",
    "        for j in range(size):\n",
    "            if number:=np.random.rand() > 0.7:\n",
    "                white_pieces = set_state(white_pieces, i, j, size)\n",
    "            elif number > 0.4:\n",
    "                black_pieces = set_state(black_pieces, i, j, size)\n",
    "            else:\n",
    "                # empty cell\n",
    "                continue\n",
    "    return white_pieces, black_pieces"
   ],
   "metadata": {
    "collapsed": false
   },
   "id": "df1338f37d98dd3a",
   "execution_count": null
  },
  {
   "cell_type": "code",
   "outputs": [
    {
     "name": "stdout",
     "output_type": "stream",
     "text": [
      "0000010000001110001100001001000000000100000011000000000100100010\n",
      "0 1 0 0 0 1 0 0 \n",
      "1 0 0 0 0 0 0 0 \n",
      "0 0 1 1 0 0 0 0 \n",
      "0 0 1 0 0 0 0 0 \n",
      "0 0 0 0 1 0 0 1 \n",
      "0 0 0 0 1 1 0 0 \n",
      "0 1 1 1 0 0 0 0 \n",
      "0 0 1 0 0 0 0 0 \n"
     ]
    }
   ],
   "source": [
    "black = 16213252669337416725 \n",
    "white = 6616014524205090956\n",
    "\n",
    "moves = generate_moves(black, white, 8)[0]\n",
    "all_move = 0\n",
    "for move in moves:\n",
    "    all_move |= move\n",
    "print(f'{all_move:064b}')\n",
    "print_pieces(all_move, 8)"
   ],
   "metadata": {
    "collapsed": false,
    "ExecuteTime": {
     "end_time": "2024-03-08T15:37:07.694259Z",
     "start_time": "2024-03-08T15:37:07.682497Z"
    }
   },
   "id": "9ed602d29275b296",
   "execution_count": 24
  },
  {
   "cell_type": "code",
   "outputs": [],
   "source": [],
   "metadata": {
    "collapsed": false
   },
   "id": "c2cdb0f2880dfda6"
  }
 ],
 "metadata": {
  "kernelspec": {
   "display_name": "Python 3",
   "language": "python",
   "name": "python3"
  },
  "language_info": {
   "codemirror_mode": {
    "name": "ipython",
    "version": 2
   },
   "file_extension": ".py",
   "mimetype": "text/x-python",
   "name": "python",
   "nbconvert_exporter": "python",
   "pygments_lexer": "ipython2",
   "version": "2.7.6"
  }
 },
 "nbformat": 4,
 "nbformat_minor": 5
}
