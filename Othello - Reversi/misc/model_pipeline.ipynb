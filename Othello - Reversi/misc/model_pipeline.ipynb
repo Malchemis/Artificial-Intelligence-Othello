{
 "cells": [
  {
   "cell_type": "markdown",
   "source": [
    "## Training a specialised model (CNN+RNN) for Othello/Reversi\n",
    "\n",
    "This notebook presents a new approach to estimate the next move to play in a game of Othello using Supervised Learning. The datasets come from the [Fédération Française d'Othello](https://www.ffothello.org/informatique/la-base-wthor/). The model input is on one hand the board state which will feed in a Convolutional Neural Network (CNN) and on the other hand the history of the game which will feed in a Recurrent Neural Network (RNN). The output of the model is the next move to play. We approach the task as a classification problem with a new type of kernel for the CNN : star-shaped kernel.\n"
   ],
   "metadata": {
    "collapsed": false
   },
   "id": "525af7d72e885e78"
  },
  {
   "cell_type": "markdown",
   "source": [
    "### Data Handling"
   ],
   "metadata": {
    "collapsed": false
   },
   "id": "b14453e6bec3cf95"
  },
  {
   "cell_type": "code",
   "source": [
    "import struct   # for reading the .wtb files\n",
    "import os       # for file/path/directories,...  handling\n",
    "import pickle   # for saving/loading the data\n",
    "\n",
    "import cv2      # display"
   ],
   "metadata": {
    "collapsed": false,
    "ExecuteTime": {
     "end_time": "2024-03-26T10:00:54.303237Z",
     "start_time": "2024-03-26T10:00:54.298213Z"
    }
   },
   "id": "312111970ff9bc18",
   "outputs": [],
   "execution_count": 12
  },
  {
   "cell_type": "markdown",
   "source": [
    "#### Extracting data from the WThor database\n",
    "\n",
    "Some functions were taken or modified from the [dnnothello repo](https://github.com/wjaskowski/dnnothello/blob/master/games/othello_data.py)\n",
    "\n",
    "The header of a .wthor file is 16 bytes long and contains the following fields:\n",
    "- 1 byte: century of the file's creation\n",
    "- 1 byte: year of the file's creation\n",
    "- 1 byte: month of the file's creation\n",
    "- 1 byte: day of the file's creation\n",
    "- 4 bytes (int): number of games in the file ($\\leq$ 2 147 483 648)\n",
    "- 2 bytes (short): 0 here (but for other type of files : number of players, tournaments, or number of empty squares in the board ($\\leq$ 65 535))\n",
    "- 1 byte: year of the games\n",
    "- 1 byte: size of the board {0: 8x8, 8: 8x8, 10: 10x10}\n",
    "- 1 byte: 0 here the games type (1 if \"solitaire\", 0 otherwise)\n",
    "- 1 byte: the games depth\n",
    "- 1 byte: reserved\n",
    "\n",
    "The games are stored in the file in the following format:\n",
    "- 2 bytes (short): label of the tournament\n",
    "- 2 bytes (short): id number of the black player\n",
    "- 2 bytes (short): id number of the white player\n",
    "- 1 byte: true score of the black player\n",
    "- 1 byte: theoretic score of the black player\n",
    "\n",
    "And then each move is stored as a 60 byte long record (list of moves)."
   ],
   "metadata": {
    "collapsed": false
   },
   "id": "406b56767f2f2a65"
  },
  {
   "cell_type": "code",
   "source": [
    "BOARD_SIZE = 8\n",
    "\n",
    "HEADER_LENGTH = 16\n",
    "HEADER_FORMAT = \"<BBBBIHHBBBB\"  # Byte, Byte, Byte, Byte, Int, Short, Short, Byte, Byte, Byte, (Reserved) Byte\n",
    "\n",
    "GAME_INFO_LENGTH = 8    \n",
    "GAME_INFO_FORMAT = \"<HHHBB\"     # Short, Short, Short, Byte, Byte\n",
    "\n",
    "MOVES_LENGTH = 60\n",
    "MOVES_FORMAT = \"<\" + \"B\"*MOVES_LENGTH\n",
    "\n",
    "POSSIBLE_SIZE = [0, 8]\n",
    "\n",
    "def read_all_wtb_files(directory):\n",
    "    \"\"\"Generator to read all .wtb files in a directory.\"\"\"\n",
    "    for file_name in os.listdir(directory):\n",
    "        if file_name.endswith(\".wtb\"):\n",
    "            yield from read_wtb(os.path.join(directory, file_name))\n",
    "\n",
    "def read_wtb(file_path):\n",
    "    \"\"\"Generator to read a .wtb file and yield game information and played moves.\"\"\"\n",
    "    with open(file_path, 'rb') as f:\n",
    "        header = struct.unpack(HEADER_FORMAT, f.read(HEADER_LENGTH))\n",
    "        assert header[7] in POSSIBLE_SIZE   # Check the board size\n",
    "        \n",
    "        for _ in range(header[4]):  # Number of games\n",
    "            game_info = struct.unpack(GAME_INFO_FORMAT, f.read(GAME_INFO_LENGTH))\n",
    "            played_moves = struct.unpack(MOVES_FORMAT, f.read(MOVES_LENGTH))\n",
    "            yield game_info[3], played_moves    # Black player true score, moves"
   ],
   "metadata": {
    "collapsed": false,
    "ExecuteTime": {
     "end_time": "2024-03-26T10:00:54.515034Z",
     "start_time": "2024-03-26T10:00:54.503650Z"
    }
   },
   "id": "44f5dc444f692047",
   "outputs": [],
   "execution_count": 13
  },
  {
   "cell_type": "code",
   "source": [
    "reader = read_wtb('../data/raw/WTH_2001.wtb')\n",
    "print(next(reader))\n",
    "\n",
    "full_reader = read_all_wtb_files('../data/raw')\n",
    "print(next(full_reader))"
   ],
   "metadata": {
    "collapsed": false,
    "ExecuteTime": {
     "end_time": "2024-03-26T10:00:54.687925Z",
     "start_time": "2024-03-26T10:00:54.560846Z"
    }
   },
   "id": "58b0357eab45455b",
   "outputs": [
    {
     "name": "stdout",
     "output_type": "stream",
     "text": [
      "(11, (56, 64, 53, 46, 35, 63, 34, 66, 65, 74, 37, 43, 57, 33, 76, 24, 75, 26, 83, 36, 73, 38, 25, 16, 14, 15, 17, 47, 13, 68, 48, 58, 52, 28, 67, 23, 12, 61, 32, 42, 31, 86, 51, 41, 27, 84, 85, 82, 71, 18, 72, 11, 21, 22, 62, 81, 77, 78, 88, 87))\n",
      "(30, (56, 64, 33, 34, 43, 46, 66, 57, 35, 36, 47, 25, 24, 38, 65, 37, 63, 76, 67, 53, 42, 75, 48, 68, 58, 13, 74, 23, 86, 85, 15, 87, 16, 84, 26, 62, 73, 52, 83, 82, 41, 51, 27, 31, 77, 14, 28, 88, 78, 32, 22, 18, 17, 21, 61, 71, 11, 12, 81, 72))\n"
     ]
    }
   ],
   "execution_count": 14
  },
  {
   "cell_type": "code",
   "source": "from utils import *     # Functions from the default project",
   "metadata": {
    "collapsed": false,
    "ExecuteTime": {
     "end_time": "2024-03-26T10:00:54.785176Z",
     "start_time": "2024-03-26T10:00:54.692684Z"
    }
   },
   "id": "2a907dfa7c46a319",
   "outputs": [],
   "execution_count": 15
  },
  {
   "cell_type": "code",
   "source": [
    "def decode_game(moves):\n",
    "    \"\"\"Decode moves played in a game from the 0-63 representation to the bitboard representation.\"\"\"\n",
    "    own, enemy = init()\n",
    "    node = Node(None, own, enemy, -1, BOARD_SIZE)\n",
    "    for move in moves:\n",
    "        if move == 0:\n",
    "            break\n",
    "        node.expand() # Generate the possible moves\n",
    "        x, y = decode_move(move)\n",
    "        move = set_state(0, x, y, BOARD_SIZE)\n",
    "        \n",
    "        if move not in node.moves: # then it means it is a pass and the other player plays of it is the end of the game\n",
    "            node.invert()\n",
    "            node.expand()\n",
    "            if move in node.moves:\n",
    "                node = node.set_child(move)\n",
    "            else:\n",
    "                node.set_child(node.moves[0])\n",
    "        else:\n",
    "            node = node.set_child(move)\n",
    "    return node\n",
    "\n",
    "            \n",
    "def decode_move(move):\n",
    "    \"\"\"Decode a move from the 0-63 representation to the (x, y) representation.\"\"\"\n",
    "    return move // 10 - 1, move % 10 - 1"
   ],
   "metadata": {
    "collapsed": false,
    "ExecuteTime": {
     "end_time": "2024-03-26T10:00:54.887337Z",
     "start_time": "2024-03-26T10:00:54.788453Z"
    }
   },
   "id": "7fe3aacf8f0431e3",
   "outputs": [],
   "execution_count": 16
  },
  {
   "cell_type": "code",
   "source": [
    "true_score, game_moves = next(full_reader)\n",
    "print(f\"Expected score: {true_score}\")\n",
    "first_game = decode_game(game_moves)\n",
    "# replay(first_game, BOARD_SIZE)\n",
    "print(f\"Score : {cell_count(first_game.own_pieces), cell_count(first_game.enemy_pieces)}\")\n",
    "while true_score in [cell_count(first_game.own_pieces), cell_count(first_game.enemy_pieces)]:\n",
    "    true_score, game_moves = next(full_reader)\n",
    "    first_game = decode_game(game_moves)\n",
    "print(f\"Expected score: {true_score}\")\n",
    "print(f\"Score : {cell_count(first_game.own_pieces), cell_count(first_game.enemy_pieces)}\")\n",
    "# replay(first_game, BOARD_SIZE)"
   ],
   "metadata": {
    "collapsed": false,
    "ExecuteTime": {
     "end_time": "2024-03-26T10:00:55.173850Z",
     "start_time": "2024-03-26T10:00:54.891970Z"
    }
   },
   "id": "7300e7eb571e10f8",
   "outputs": [
    {
     "name": "stdout",
     "output_type": "stream",
     "text": [
      "Expected score: 29\n",
      "Score : (29, 35)\n",
      "Expected score: 55\n",
      "Score : (9, 54)\n"
     ]
    }
   ],
   "execution_count": 17
  },
  {
   "cell_type": "markdown",
   "source": [
    "True score is the number of pieces of the black player + the empty ones."
   ],
   "metadata": {
    "collapsed": false
   },
   "id": "71e49a4debca08c4"
  },
  {
   "cell_type": "code",
   "source": [
    "def dump_data(directory, output_file, batch_size=1):\n",
    "    \"\"\"Dump the data from the .wtb files in a pickle file.\"\"\"\n",
    "    data = []\n",
    "    data_reader = read_all_wtb_files(directory)\n",
    "    for i, (score, moves) in enumerate(data_reader):\n",
    "        game = decode_game(moves)\n",
    "        move_list = replay(game, BOARD_SIZE, False)\n",
    "        data.append((score, move_list))\n",
    "        if i % batch_size == 0:\n",
    "            print(f\"Batch {i // batch_size}\", end='\\r')\n",
    "            with open(f\"{output_file}_{i // batch_size}.pkl\", 'wb') as f:\n",
    "                pickle.dump(data, f)\n",
    "                data = []\n",
    "    with open(f\"{output_file}_{len(list(read_all_wtb_files(directory))) // batch_size + 1}.pkl\", 'wb') as f:\n",
    "        pickle.dump(data, f)"
   ],
   "metadata": {
    "collapsed": false,
    "ExecuteTime": {
     "end_time": "2024-03-26T10:00:55.188722Z",
     "start_time": "2024-03-26T10:00:55.177347Z"
    }
   },
   "id": "8831c3c4aeb0e2c9",
   "outputs": [],
   "execution_count": 18
  },
  {
   "cell_type": "code",
   "source": [
    "# dump_data('../data/raw', '../data/processed/data', batch_size=1000)"
   ],
   "metadata": {
    "collapsed": false,
    "ExecuteTime": {
     "end_time": "2024-03-26T10:00:55.307937Z",
     "start_time": "2024-03-26T10:00:55.192374Z"
    }
   },
   "id": "a5cb1c655d12f4b7",
   "outputs": [],
   "execution_count": 19
  },
  {
   "cell_type": "code",
   "source": [
    "def load_data(file_path, bound=131):\n",
    "    \"\"\"Load the data from a pickle file.\"\"\"\n",
    "    data = []\n",
    "    for i in range(bound):\n",
    "        with open(f\"{file_path}_{i}.pkl\", 'rb') as f:\n",
    "            data.extend(pickle.load(f))\n",
    "    return data"
   ],
   "metadata": {
    "collapsed": false,
    "ExecuteTime": {
     "end_time": "2024-03-26T10:00:55.397299Z",
     "start_time": "2024-03-26T10:00:55.311401Z"
    }
   },
   "id": "9408336d26cb6e03",
   "outputs": [],
   "execution_count": 20
  },
  {
   "cell_type": "code",
   "source": [
    "loaded_data = load_data('../data/processed/data', 1)\n",
    "def test_loaded():\n",
    "    print(len(loaded_data))\n",
    "    print(len(loaded_data[0]))\n",
    "    # for score, game_nodes in loaded_data:\n",
    "    #     print(score)\n",
    "    #     for game_node in game_nodes:\n",
    "    #         if not game_node.moves:\n",
    "    #             game_node.moves = generate_moves(game_node.own_pieces, game_node.enemy_pieces, BOARD_SIZE)[0]\n",
    "    #         print(game_node)\n",
    "    #         print(game_node.moves)\n",
    "    #         print(game_node.value)\n",
    "    #         cv2_display(BOARD_SIZE, game_node.own_pieces, game_node.enemy_pieces, game_node.moves, game_node.turn, display_only=True)\n",
    "    #         answer = input(\"Continue ?\")\n",
    "    #         if answer == 'n':\n",
    "    #             return\n",
    "    # cv2.destroyAllWindows()\n",
    "test_loaded()"
   ],
   "metadata": {
    "collapsed": false,
    "is_executing": true,
    "ExecuteTime": {
     "end_time": "2024-03-26T10:00:55.586920Z",
     "start_time": "2024-03-26T10:00:55.401051Z"
    }
   },
   "id": "5665b7a476e03002",
   "outputs": [
    {
     "name": "stdout",
     "output_type": "stream",
     "text": [
      "1\n",
      "2\n"
     ]
    }
   ],
   "execution_count": 21
  },
  {
   "cell_type": "markdown",
   "source": [
    "#### Data Preprocessing\n",
    "Now we want to remove duplicates, add symmetries, and consider the games as the black player's perspective (if white win, we invert the board)."
   ],
   "metadata": {
    "collapsed": false
   },
   "id": "6606a674e8bded94"
  },
  {
   "cell_type": "code",
   "source": [
    "import torch\n",
    "from torch.utils.data import Dataset, DataLoader\n",
    "from typing import Dict\n",
    "import logging\n",
    "\n",
    "# Dataset class for Othello (credits to https://github.com/zatomos for coming up with this absolute bonker of a name)\n",
    "class Othelload(Dataset):\n",
    "    def __int__(self, file_list: np.ndarray, transform, loggers: Dict[str, logging.Logger], nb_game_by_file=1000, duplicates=True, symmetries=True):\n",
    "        self.file_list = file_list\n",
    "        self.nb_games_by_file = nb_game_by_file\n",
    "        self.transform = transform\n",
    "        self.duplicates = duplicates\n",
    "        self.symmetries = symmetries\n",
    "        self.loggers = loggers\n",
    "        \n",
    "    def __len__(self):\n",
    "        return len(self.file_list * self.nb_games_by_file)\n",
    "    \n",
    "    def __getitem__(self, index):\n",
    "        try:\n",
    "            file_path = self.file_list[index]\n",
    "            with open(file_path, 'r') as f:\n",
    "                sample = pickle.load(f)\n",
    "            if not self.duplicates:\n",
    "                sample = self.remove_duplicates(sample)\n",
    "            if self.symmetries:\n",
    "                sample = self.add_symetries(sample)\n",
    "            label = self.generate_labels(sample)\n",
    "            return sample, label\n",
    "        except Exception as e:\n",
    "            self.loggers[\"error\"].error(f\"Error while generating pair (sample, label) \\n{e}\")\n",
    "            raise e\n",
    "    \n",
    "    def remove_duplicates(self, sample: ):"
   ],
   "metadata": {
    "collapsed": false,
    "is_executing": true,
    "ExecuteTime": {
     "end_time": "2024-03-26T10:00:55.634715Z",
     "start_time": "2024-03-26T10:00:55.590239Z"
    }
   },
   "id": "5f3431c9debe3646",
   "outputs": [
    {
     "ename": "SyntaxError",
     "evalue": "invalid syntax (2353820671.py, line 34)",
     "output_type": "error",
     "traceback": [
      "\u001B[0;36m  Cell \u001B[0;32mIn[22], line 34\u001B[0;36m\u001B[0m\n\u001B[0;31m    def remove_duplicates(self, sample: ):\u001B[0m\n\u001B[0m                                        ^\u001B[0m\n\u001B[0;31mSyntaxError\u001B[0m\u001B[0;31m:\u001B[0m invalid syntax\n"
     ]
    }
   ],
   "execution_count": 22
  }
 ],
 "metadata": {
  "kernelspec": {
   "display_name": "Python 3",
   "language": "python",
   "name": "python3"
  },
  "language_info": {
   "codemirror_mode": {
    "name": "ipython",
    "version": 2
   },
   "file_extension": ".py",
   "mimetype": "text/x-python",
   "name": "python",
   "nbconvert_exporter": "python",
   "pygments_lexer": "ipython2",
   "version": "2.7.6"
  }
 },
 "nbformat": 4,
 "nbformat_minor": 5
}
