{
 "cells": [
  {
   "cell_type": "markdown",
   "source": [
    "## Training a specialised model (CNN+RNN) for Othello/Reversi\n",
    "\n",
    "This notebook presents a new approach to estimate the next move to play in a game of Othello using Supervised Learning. The datasets come from the [Fédération Française d'Othello](https://www.ffothello.org/informatique/la-base-wthor/). The model input is on one hand the board state which will feed in a Convolutional Neural Network (CNN) and on the other hand the history of the game which will feed in a Recurrent Neural Network (RNN). The output of the model is the next move to play. We approach the task as a classification problem with a new type of kernel for the CNN : star-shaped kernel."
   ],
   "metadata": {
    "collapsed": false
   },
   "id": "525af7d72e885e78"
  },
  {
   "cell_type": "markdown",
   "source": [
    "### Data Handling"
   ],
   "metadata": {
    "collapsed": false
   },
   "id": "b14453e6bec3cf95"
  },
  {
   "cell_type": "code",
   "outputs": [],
   "source": [
    "import struct   # for reading the .wtb files\n",
    "import os       # for file/path/directories,...  handling\n",
    "\n",
    "import numpy as np"
   ],
   "metadata": {
    "collapsed": false,
    "ExecuteTime": {
     "end_time": "2024-03-21T23:09:34.455708Z",
     "start_time": "2024-03-21T23:09:34.452613Z"
    }
   },
   "id": "312111970ff9bc18",
   "execution_count": 110
  },
  {
   "cell_type": "markdown",
   "source": [
    "#### Extracting data from the WThor database\n",
    "\n",
    "Some functions were taken or modified from the [dnnothello repo](https://github.com/wjaskowski/dnnothello/blob/master/games/othello_data.py)\n",
    "\n",
    "The header of a .wthor file is 16 bytes long and contains the following fields:\n",
    "- 1 byte: century of the file's creation\n",
    "- 1 byte: year of the file's creation\n",
    "- 1 byte: month of the file's creation\n",
    "- 1 byte: day of the file's creation\n",
    "- 4 bytes (int): number of games in the file ($\\leq$ 2 147 483 648)\n",
    "- 2 bytes (short): 0 here (but for other type of files : number of players, tournaments, or number of empty squares in the board ($\\leq$ 65 535))\n",
    "- 1 byte: year of the games\n",
    "- 1 byte: size of the board {0: 8x8, 8: 8x8, 10: 10x10}\n",
    "- 1 byte: 0 here the games type (1 if \"solitaire\", 0 otherwise)\n",
    "- 1 byte: the games depth\n",
    "- 1 byte: reserved\n",
    "\n",
    "The games are stored in the file in the following format:\n",
    "- 2 bytes (short): label of the tournament\n",
    "- 2 bytes (short): id number of the black player\n",
    "- 2 bytes (short): id number of the white player\n",
    "- 1 byte: true score of the black player\n",
    "- 1 byte: theoretic score of the black player\n",
    "\n",
    "And then each move is stored as a 60 byte long record (list of moves)."
   ],
   "metadata": {
    "collapsed": false
   },
   "id": "406b56767f2f2a65"
  },
  {
   "cell_type": "code",
   "outputs": [],
   "source": [
    "BOARD_SIZE = 8\n",
    "\n",
    "HEADER_LENGTH = 16\n",
    "HEADER_FORMAT = \"<BBBBIHHBBBB\"  # Byte, Byte, Byte, Byte, Int, Short, Short, Byte, Byte, Byte, (Reserved) Byte\n",
    "\n",
    "GAME_INFO_LENGTH = 8    \n",
    "GAME_INFO_FORMAT = \"<HHHBB\"     # Short, Short, Short, Byte, Byte\n",
    "\n",
    "MOVES_LENGTH = 60\n",
    "MOVES_FORMAT = \"<\" + \"B\"*MOVES_LENGTH\n",
    "\n",
    "POSSIBLE_SIZE = [0, 8]\n",
    "\n",
    "def read_all_wtb_files(directory):\n",
    "    \"\"\"Generator to read all .wtb files in a directory.\"\"\"\n",
    "    for file_name in os.listdir(directory):\n",
    "        if file_name.endswith(\".wtb\"):\n",
    "            yield from read_wtb(os.path.join(directory, file_name))\n",
    "\n",
    "def read_wtb(file_path):\n",
    "    \"\"\"Generator to read a .wtb file and yield game information and played moves.\"\"\"\n",
    "    with open(file_path, 'rb') as f:\n",
    "        header = struct.unpack(HEADER_FORMAT, f.read(HEADER_LENGTH))\n",
    "        assert header[7] in POSSIBLE_SIZE   # Check the board size\n",
    "        \n",
    "        for _ in range(header[4]):  # Number of games\n",
    "            game_info = struct.unpack(GAME_INFO_FORMAT, f.read(GAME_INFO_LENGTH))\n",
    "            played_moves = struct.unpack(MOVES_FORMAT, f.read(MOVES_LENGTH))\n",
    "            yield game_info[3], played_moves    # Black player true score, moves"
   ],
   "metadata": {
    "collapsed": false,
    "ExecuteTime": {
     "end_time": "2024-03-21T23:09:34.474359Z",
     "start_time": "2024-03-21T23:09:34.468399Z"
    }
   },
   "id": "44f5dc444f692047",
   "execution_count": 111
  },
  {
   "cell_type": "code",
   "outputs": [
    {
     "name": "stdout",
     "output_type": "stream",
     "text": [
      "(11, (56, 64, 53, 46, 35, 63, 34, 66, 65, 74, 37, 43, 57, 33, 76, 24, 75, 26, 83, 36, 73, 38, 25, 16, 14, 15, 17, 47, 13, 68, 48, 58, 52, 28, 67, 23, 12, 61, 32, 42, 31, 86, 51, 41, 27, 84, 85, 82, 71, 18, 72, 11, 21, 22, 62, 81, 77, 78, 88, 87))\n",
      "(34, (56, 64, 33, 36, 46, 34, 43, 67, 66, 65, 53, 63, 74, 84, 75, 57, 35, 24, 47, 38, 76, 52, 58, 37, 42, 62, 83, 82, 73, 85, 86, 87, 48, 68, 25, 14, 13, 31, 61, 51, 15, 26, 77, 23, 41, 88, 21, 72, 16, 32, 12, 22, 78, 71, 81, 11, 17, 27, 28, 18))\n"
     ]
    }
   ],
   "source": [
    "reader = read_wtb('../data/WTH_2001.wtb')\n",
    "print(next(reader))\n",
    "\n",
    "full_reader = read_all_wtb_files('../data/')\n",
    "print(next(full_reader))"
   ],
   "metadata": {
    "collapsed": false,
    "ExecuteTime": {
     "end_time": "2024-03-21T23:09:34.495415Z",
     "start_time": "2024-03-21T23:09:34.490957Z"
    }
   },
   "id": "58b0357eab45455b",
   "execution_count": 112
  },
  {
   "cell_type": "code",
   "outputs": [],
   "source": [
    "def decode_board(moves):\n",
    "    \"\"\"Decode a board from the 0-63 representation to the 2D representation.\"\"\"\n",
    "    boards = np.array([])\n",
    "    player = -1  # Black starts\n",
    "    for i, move in enumerate(moves):\n",
    "        x, y = decode_move(move)\n",
    "        # TODO Check if the move is valid. If it is not, we have to switch player.\n",
    "        # TODO Add the board\n",
    "        # TODO Switch player\n",
    "    return boards\n",
    "        \n",
    "            \n",
    "def decode_move(move):\n",
    "    \"\"\"Decode a move from the 0-63 representation to the (x, y) representation.\"\"\"\n",
    "    return move % 10 - 1, move // 10 - 1\n",
    "\n",
    "def print_board(board):\n",
    "    \"\"\"Print a board.\"\"\"\n",
    "    for row in board:\n",
    "        print(\"\".join(\"X\" if cell == 1 else \"O\" if cell == 2 else \".\" for cell in row))"
   ],
   "metadata": {
    "collapsed": false,
    "ExecuteTime": {
     "end_time": "2024-03-21T23:09:34.504715Z",
     "start_time": "2024-03-21T23:09:34.497364Z"
    }
   },
   "id": "7fe3aacf8f0431e3",
   "execution_count": 113
  },
  {
   "cell_type": "code",
   "outputs": [
    {
     "name": "stdout",
     "output_type": "stream",
     "text": [
      "0 56\n",
      "1 64\n",
      "2 43\n",
      "3 34\n",
      "4 33\n",
      "5 46\n",
      "6 66\n",
      "7 52\n",
      "8 42\n",
      "9 36\n",
      "10 65\n",
      "11 75\n",
      "12 76\n",
      "13 53\n",
      "14 35\n",
      "15 31\n",
      "16 73\n",
      "17 74\n",
      "18 62\n",
      "19 67\n",
      "20 57\n",
      "21 23\n",
      "22 61\n",
      "23 63\n",
      "24 37\n",
      "25 58\n",
      "26 84\n",
      "27 85\n",
      "28 68\n",
      "29 47\n",
      "30 86\n",
      "31 83\n",
      "32 82\n",
      "33 51\n",
      "34 72\n",
      "35 24\n",
      "36 26\n",
      "37 25\n",
      "38 48\n",
      "39 81\n",
      "40 71\n",
      "41 16\n",
      "42 27\n",
      "43 77\n",
      "44 41\n",
      "45 87\n",
      "46 32\n",
      "47 18\n",
      "48 17\n",
      "49 22\n",
      "50 13\n",
      "51 15\n",
      "52 21\n",
      "53 11\n",
      "54 12\n",
      "55 14\n",
      "56 78\n",
      "57 28\n",
      "58 38\n",
      "59 88\n",
      "OXXOOOXO\n",
      "XOOOOXXO\n",
      "OXXOXOXX\n",
      "XXX..OOX\n",
      "OOO..XXO\n",
      "XXOOXXOX\n",
      "XXXOOXOX\n",
      "OXOXOXOO\n"
     ]
    }
   ],
   "source": [
    "next_moves = next(reader)[1]\n",
    "np_board = decode_board(next_moves)\n",
    "print_board(np_board)"
   ],
   "metadata": {
    "collapsed": false,
    "ExecuteTime": {
     "end_time": "2024-03-21T23:09:34.537380Z",
     "start_time": "2024-03-21T23:09:34.505691Z"
    }
   },
   "id": "7300e7eb571e10f8",
   "execution_count": 114
  },
  {
   "cell_type": "code",
   "outputs": [],
   "source": [],
   "metadata": {
    "collapsed": false,
    "ExecuteTime": {
     "end_time": "2024-03-21T23:09:34.542665Z",
     "start_time": "2024-03-21T23:09:34.539329Z"
    }
   },
   "id": "6b20a8ba6fd8de13",
   "execution_count": 114
  }
 ],
 "metadata": {
  "kernelspec": {
   "display_name": "Python 3",
   "language": "python",
   "name": "python3"
  },
  "language_info": {
   "codemirror_mode": {
    "name": "ipython",
    "version": 2
   },
   "file_extension": ".py",
   "mimetype": "text/x-python",
   "name": "python",
   "nbconvert_exporter": "python",
   "pygments_lexer": "ipython2",
   "version": "2.7.6"
  }
 },
 "nbformat": 4,
 "nbformat_minor": 5
}
