{
 "cells": [
  {
   "cell_type": "markdown",
   "source": [
    "## Training a specialised model (CNN+RNN) for Othello/Reversi\n",
    "\n",
    "This notebook presents a new approach to estimate the next move to play in a game of Othello using Supervised Learning. The datasets come from the [Fédération Française d'Othello](https://www.ffothello.org/informatique/la-base-wthor/). The model input is on one hand the board state which will feed in a Convolutional Neural Network (CNN) and on the other hand the history of the game which will feed in a Recurrent Neural Network (RNN). The output of the model is the next move to play. We approach the task as a classification problem with a new type of kernel for the CNN : star-shaped kernel."
   ],
   "metadata": {
    "collapsed": false
   },
   "id": "525af7d72e885e78"
  },
  {
   "cell_type": "markdown",
   "source": [
    "### Data Handling"
   ],
   "metadata": {
    "collapsed": false
   },
   "id": "b14453e6bec3cf95"
  },
  {
   "cell_type": "code",
   "outputs": [],
   "source": [
    "import struct   # for reading the .wtb files\n",
    "import os       # for file/path/directories,...  handling\n",
    "import pickle   # for saving/loading the data"
   ],
   "metadata": {
    "collapsed": false,
    "ExecuteTime": {
     "end_time": "2024-03-22T20:40:14.852133Z",
     "start_time": "2024-03-22T20:40:14.845200Z"
    }
   },
   "id": "312111970ff9bc18",
   "execution_count": 1
  },
  {
   "cell_type": "markdown",
   "source": [
    "#### Extracting data from the WThor database\n",
    "\n",
    "Some functions were taken or modified from the [dnnothello repo](https://github.com/wjaskowski/dnnothello/blob/master/games/othello_data.py)\n",
    "\n",
    "The header of a .wthor file is 16 bytes long and contains the following fields:\n",
    "- 1 byte: century of the file's creation\n",
    "- 1 byte: year of the file's creation\n",
    "- 1 byte: month of the file's creation\n",
    "- 1 byte: day of the file's creation\n",
    "- 4 bytes (int): number of games in the file ($\\leq$ 2 147 483 648)\n",
    "- 2 bytes (short): 0 here (but for other type of files : number of players, tournaments, or number of empty squares in the board ($\\leq$ 65 535))\n",
    "- 1 byte: year of the games\n",
    "- 1 byte: size of the board {0: 8x8, 8: 8x8, 10: 10x10}\n",
    "- 1 byte: 0 here the games type (1 if \"solitaire\", 0 otherwise)\n",
    "- 1 byte: the games depth\n",
    "- 1 byte: reserved\n",
    "\n",
    "The games are stored in the file in the following format:\n",
    "- 2 bytes (short): label of the tournament\n",
    "- 2 bytes (short): id number of the black player\n",
    "- 2 bytes (short): id number of the white player\n",
    "- 1 byte: true score of the black player\n",
    "- 1 byte: theoretic score of the black player\n",
    "\n",
    "And then each move is stored as a 60 byte long record (list of moves)."
   ],
   "metadata": {
    "collapsed": false
   },
   "id": "406b56767f2f2a65"
  },
  {
   "cell_type": "code",
   "outputs": [],
   "source": [
    "BOARD_SIZE = 8\n",
    "\n",
    "HEADER_LENGTH = 16\n",
    "HEADER_FORMAT = \"<BBBBIHHBBBB\"  # Byte, Byte, Byte, Byte, Int, Short, Short, Byte, Byte, Byte, (Reserved) Byte\n",
    "\n",
    "GAME_INFO_LENGTH = 8    \n",
    "GAME_INFO_FORMAT = \"<HHHBB\"     # Short, Short, Short, Byte, Byte\n",
    "\n",
    "MOVES_LENGTH = 60\n",
    "MOVES_FORMAT = \"<\" + \"B\"*MOVES_LENGTH\n",
    "\n",
    "POSSIBLE_SIZE = [0, 8]\n",
    "\n",
    "def read_all_wtb_files(directory):\n",
    "    \"\"\"Generator to read all .wtb files in a directory.\"\"\"\n",
    "    for file_name in os.listdir(directory):\n",
    "        if file_name.endswith(\".wtb\"):\n",
    "            yield from read_wtb(os.path.join(directory, file_name))\n",
    "\n",
    "def read_wtb(file_path):\n",
    "    \"\"\"Generator to read a .wtb file and yield game information and played moves.\"\"\"\n",
    "    with open(file_path, 'rb') as f:\n",
    "        header = struct.unpack(HEADER_FORMAT, f.read(HEADER_LENGTH))\n",
    "        assert header[7] in POSSIBLE_SIZE   # Check the board size\n",
    "        \n",
    "        for _ in range(header[4]):  # Number of games\n",
    "            game_info = struct.unpack(GAME_INFO_FORMAT, f.read(GAME_INFO_LENGTH))\n",
    "            played_moves = struct.unpack(MOVES_FORMAT, f.read(MOVES_LENGTH))\n",
    "            yield game_info[3], played_moves    # Black player true score, moves"
   ],
   "metadata": {
    "collapsed": false,
    "ExecuteTime": {
     "end_time": "2024-03-22T20:40:14.863793Z",
     "start_time": "2024-03-22T20:40:14.854142Z"
    }
   },
   "id": "44f5dc444f692047",
   "execution_count": 2
  },
  {
   "cell_type": "code",
   "outputs": [
    {
     "name": "stdout",
     "output_type": "stream",
     "text": [
      "(11, (56, 64, 53, 46, 35, 63, 34, 66, 65, 74, 37, 43, 57, 33, 76, 24, 75, 26, 83, 36, 73, 38, 25, 16, 14, 15, 17, 47, 13, 68, 48, 58, 52, 28, 67, 23, 12, 61, 32, 42, 31, 86, 51, 41, 27, 84, 85, 82, 71, 18, 72, 11, 21, 22, 62, 81, 77, 78, 88, 87))\n",
      "(34, (56, 64, 33, 36, 46, 34, 43, 67, 66, 65, 53, 63, 74, 84, 75, 57, 35, 24, 47, 38, 76, 52, 58, 37, 42, 62, 83, 82, 73, 85, 86, 87, 48, 68, 25, 14, 13, 31, 61, 51, 15, 26, 77, 23, 41, 88, 21, 72, 16, 32, 12, 22, 78, 71, 81, 11, 17, 27, 28, 18))\n"
     ]
    }
   ],
   "source": [
    "reader = read_wtb('../data/raw/WTH_2001.wtb')\n",
    "print(next(reader))\n",
    "\n",
    "full_reader = read_all_wtb_files('../data/raw')\n",
    "print(next(full_reader))"
   ],
   "metadata": {
    "collapsed": false,
    "ExecuteTime": {
     "end_time": "2024-03-22T20:40:14.880055Z",
     "start_time": "2024-03-22T20:40:14.867790Z"
    }
   },
   "id": "58b0357eab45455b",
   "execution_count": 3
  },
  {
   "cell_type": "code",
   "outputs": [],
   "source": [
    "from utils import *"
   ],
   "metadata": {
    "collapsed": false,
    "ExecuteTime": {
     "end_time": "2024-03-22T20:40:15.100358Z",
     "start_time": "2024-03-22T20:40:14.882061Z"
    }
   },
   "id": "2a907dfa7c46a319",
   "execution_count": 4
  },
  {
   "cell_type": "code",
   "outputs": [],
   "source": [
    "def decode_game(moves):\n",
    "    \"\"\"Decode moves played in a game from the 0-63 representation to the bitboard representation.\"\"\"\n",
    "    own, enemy = init()\n",
    "    node = Node(None, own, enemy, -1, BOARD_SIZE)\n",
    "    for move in moves:\n",
    "        if move == 0:\n",
    "            break\n",
    "        node.expand() # Generate the possible moves\n",
    "        x, y = decode_move(move)\n",
    "        move = set_state(0, x, y, BOARD_SIZE)\n",
    "        \n",
    "        if move not in node.moves: # then it means it is a pass and the other player plays of it is the end of the game\n",
    "            node.invert()\n",
    "            node.expand()\n",
    "            if move in node.moves:\n",
    "                node = node.set_child(move)\n",
    "            else:\n",
    "                node.set_child(node.moves[0])\n",
    "        else:\n",
    "            node = node.set_child(move)\n",
    "    return node\n",
    "\n",
    "            \n",
    "def decode_move(move):\n",
    "    \"\"\"Decode a move from the 0-63 representation to the (x, y) representation.\"\"\"\n",
    "    return move // 10 - 1, move % 10 - 1"
   ],
   "metadata": {
    "collapsed": false,
    "ExecuteTime": {
     "end_time": "2024-03-22T20:40:15.114600Z",
     "start_time": "2024-03-22T20:40:15.102364Z"
    }
   },
   "id": "7fe3aacf8f0431e3",
   "execution_count": 5
  },
  {
   "cell_type": "code",
   "outputs": [
    {
     "name": "stdout",
     "output_type": "stream",
     "text": [
      "Expected score: 52\n",
      "Score : (12, 52)\n",
      "Expected score: 64\n",
      "Score : (0, 63)\n"
     ]
    }
   ],
   "source": [
    "true_score, game_moves = next(full_reader)\n",
    "print(f\"Expected score: {true_score}\")\n",
    "first_game = decode_game(game_moves)\n",
    "# replay(first_game, BOARD_SIZE)\n",
    "print(f\"Score : {cell_count(first_game.own_pieces), cell_count(first_game.enemy_pieces)}\")\n",
    "while true_score in [cell_count(first_game.own_pieces), cell_count(first_game.enemy_pieces)]:\n",
    "    true_score, game_moves = next(full_reader)\n",
    "    first_game = decode_game(game_moves)\n",
    "print(f\"Expected score: {true_score}\")\n",
    "print(f\"Score : {cell_count(first_game.own_pieces), cell_count(first_game.enemy_pieces)}\")\n",
    "# replay(first_game, BOARD_SIZE)"
   ],
   "metadata": {
    "collapsed": false,
    "ExecuteTime": {
     "end_time": "2024-03-22T20:40:15.245265Z",
     "start_time": "2024-03-22T20:40:15.117607Z"
    }
   },
   "id": "7300e7eb571e10f8",
   "execution_count": 6
  },
  {
   "cell_type": "markdown",
   "source": [
    "True score is the number of pieces of the black player + the empty ones."
   ],
   "metadata": {
    "collapsed": false
   },
   "id": "71e49a4debca08c4"
  },
  {
   "cell_type": "code",
   "outputs": [],
   "source": [
    "def dump_data(directory, output_file, batch_size=1):\n",
    "    \"\"\"Dump the data from the .wtb files in a pickle file.\"\"\"\n",
    "    data = []\n",
    "    data_reader = read_all_wtb_files(directory)\n",
    "    for i, (score, moves) in enumerate(data_reader):\n",
    "        game = decode_game(moves)\n",
    "        move_list = replay(game, BOARD_SIZE, False)\n",
    "        data.append((score, move_list))\n",
    "        if i % batch_size == 0:\n",
    "            print(f\"Batch {i // batch_size}\", end='\\r')\n",
    "            with open(f\"{output_file}_{i // batch_size}.pkl\", 'wb') as f:\n",
    "                pickle.dump(data, f)\n",
    "                data = []\n",
    "    with open(f\"{output_file}_{len(list(read_all_wtb_files(directory))) // batch_size + 1}.pkl\", 'wb') as f:\n",
    "        pickle.dump(data, f)"
   ],
   "metadata": {
    "collapsed": false,
    "ExecuteTime": {
     "end_time": "2024-03-22T20:40:15.257867Z",
     "start_time": "2024-03-22T20:40:15.249273Z"
    }
   },
   "id": "8831c3c4aeb0e2c9",
   "execution_count": 7
  },
  {
   "cell_type": "code",
   "outputs": [
    {
     "name": "stdout",
     "output_type": "stream",
     "text": [
      "Batch 130\r"
     ]
    }
   ],
   "source": [
    "dump_data('../data/raw', '../data/processed/data', batch_size=1000)"
   ],
   "metadata": {
    "collapsed": false,
    "ExecuteTime": {
     "end_time": "2024-03-22T20:48:31.284757Z",
     "start_time": "2024-03-22T20:40:15.259864Z"
    }
   },
   "id": "a5cb1c655d12f4b7",
   "execution_count": 8
  },
  {
   "cell_type": "code",
   "outputs": [],
   "source": [
    "def load_data(file_path, bound=131):\n",
    "    \"\"\"Load the data from a pickle file.\"\"\"\n",
    "    data = []\n",
    "    for i in range(bound):\n",
    "        with open(f\"{file_path}_{i}.pkl\", 'rb') as f:\n",
    "            data.extend(pickle.load(f))\n",
    "    return data"
   ],
   "metadata": {
    "collapsed": false,
    "ExecuteTime": {
     "end_time": "2024-03-22T21:18:34.472629Z",
     "start_time": "2024-03-22T21:18:34.465859Z"
    }
   },
   "id": "9408336d26cb6e03",
   "execution_count": 11
  },
  {
   "cell_type": "code",
   "outputs": [
    {
     "name": "stdout",
     "output_type": "stream",
     "text": [
      "34\n",
      "34628173824, 68853694464, -1\n",
      "[524288, 17592186044416, 137438953472, 67108864]\n",
      "None\n",
      "Press Enter to continue...134217728, 240786604032, 1\n",
      "[8796093022208, 536870912, 35184372088832]\n",
      "None\n",
      "Press Enter to continue...206426865664, 8830586978304, -1\n",
      "[67108864, 17179869184, 262144, 4398046511104, 1125899906842624]\n",
      "None\n",
      "Press Enter to continue...8830452760576, 206561345536, 1\n",
      "[524288, 274877906944, 2097152, 536870912]\n",
      "None\n",
      "Press Enter to continue...206292910080, 8830723293184, -1\n",
      "[1048576, 2251799813685248, 536870912, 17179869184, 524288, 1125899906842624]\n",
      "None\n",
      "Press Enter to continue...8830454857728, 207098216448, 1\n",
      "[524288, 35184372088832, 274877906944, 4194304]\n",
      "None\n",
      "Press Enter to continue...206963998720, 8830589599744, -1\n",
      "[8192, 1048576, 67108864, 17179869184, 1024, 16384, 4398046511104, 1125899906842624]\n",
      "None\n",
      "Press Enter to continue...8830455382016, 207165325312, 1\n",
      "[35184372088832, 274877906944, 131072, 4194304, 8589934592, 70368744177664]\n",
      "None\n",
      "Press Enter to continue...69457936384, 79336906948608, -1\n",
      "[2048, 8192, 1048576, 35184372088832, 2251799813685248, 274877906944, 17179869184, 4096, 1125899906842624, 17592186044416]\n",
      "None\n",
      "Press Enter to continue...79199467995136, 35391268978688, 1\n",
      "[17592186044416, 9007199254740992, 1073741824, 274877906944, 131072, 33554432, 4194304, 8589934592]\n",
      "None\n",
      "Press Enter to continue...138177413120, 132044745605120, -1\n",
      "[2048, 8192, 2251799813685248, 9007199254740992, 1048576, 17179869184, 1024, 4096, 1125899906842624, 18014398509481984, 36028797018963968]\n",
      "None\n",
      "Press Enter to continue...131941666390016, 258436497408, 1\n",
      "[1073741824, 131072, 33554432, 512, 4194304, 8589934592, 4398046511104]\n",
      "None\n",
      "Press Enter to continue...224076759040, 136374072639488, -1\n",
      "[2048, 8192, 1048576, 1125899906842624, 2251799813685248, 4503599627370496, 9007199254740992, 1024, 4096, 18014398509481984, 36028797018963968]\n",
      "None\n",
      "Press Enter to continue...109951433834496, 2278446529249280, 1\n",
      "[1024, 4503599627370496, 576460752303423488, 1073741824, 131072, 33554432, 512, 8589934592, 1152921504606846976]\n",
      "None\n",
      "Press Enter to continue...17816128585728, 578831334137921536, -1\n",
      "[8192, 1048576, 1125899906842624, 9007199254740992, 140737488355328, 2199023255552, 1024, 4096, 288230376151711744, 4503599627370496, 18014398509481984, 36028797018963968]\n",
      "None\n",
      "Press Enter to continue...578822538044899328, 4530211848978432, 1\n",
      "[1024, 1152921504606846976, 1073741824, 274877906944, 9007199254740992, 131072, 33554432, 8589934592, 512, 2199023255552]\n",
      "None\n",
      "Press Enter to continue...4530005690548224, 578823019081236480, -1\n",
      "[2048, 8192, 1048576, 1125899906842624, 9007199254740992, 549755813888, 140737488355328, 2199023255552, 4096, 1073741824, 2147483648, 288230376151711744, 18014398509481984]\n",
      "None\n",
      "Press Enter to continue...578822949958582272, 4530074814251008, 1\n",
      "[1024, 2048, 9007199254740992, 131072, 8589934592, 512]\n",
      "None\n",
      "Press Enter to continue...4530074141589504, 578822950631245824, -1\n",
      "[8, 4096, 1125899906842624, 4194304, 1073741824, 549755813888, 140737488355328, 2199023255552, 1024, 16, 8192, 16384, 2147483648, 562949953421312, 288230376151711744, 18014398509481984, 36028797018963968]\n",
      "None\n",
      "Press Enter to continue...578822812655421440, 4530213191155712, 1\n",
      "[1024, 4194304, 1152921504606846976, 2147483648, 9007199254740992, 131072, 33554432, 8589934592, 512, 8388608, 2199023255552, 549755813888]\n",
      "None\n",
      "Press Enter to continue...4512482492416000, 578840543362549760, -1\n",
      "[8, 4096, 8192, 1125899906842624, 9007199254740992, 4194304, 2147483648, 549755813888, 140737488355328, 2199023255552, 4, 1024, 16, 16384, 562949953421312, 18014398509481984, 36028797018963968]\n",
      "None\n",
      "Press Enter to continue...578787595005724672, 13572630103982080, 1\n",
      "[1024, 1152921504606846976, 2305843009213693952, 18014398509481984, 131072, 33554432, 8589934592, 512, 2199023255552]\n",
      "None\n",
      "Press Enter to continue...13572372338835456, 578787861360805888, -1\n",
      "[8, 4096, 8192, 1125899906842624, 4194304, 2147483648, 140737488355328, 33554432, 2199023255552, 4, 1024, 131072, 16, 16384, 549755813888, 562949953421312, 288230376151711744, 36028797018963968]\n",
      "None\n",
      "Press Enter to continue...578717492616628224, 13643290838827008, 1\n",
      "[1024, 18014398509481984, 1152921504606846976, 2305843009213693952, 140737488355328, 131072, 512, 4194304, 33554432, 1125899906842624, 36028797018963968, 4611686018427387904]\n",
      "None\n",
      "Press Enter to continue...13643290301956096, 578717493157693440, -1\n",
      "[8, 4096, 8192, 16384, 1125899906842624, 2147483648, 33554432, 4294967296, 2199023255552, 1024, 131072, 16, 32768, 562949953421312, 288230376151711744]\n",
      "None\n",
      "Press Enter to continue...578717475776497664, 13643307716706304, 1\n",
      "[1024, 131072, 18014398509481984, 1152921504606846976, 2305843009213693952, 140737488355328, 16777216, 512, 4294967296, 2199023255552, 1125899906842624, 36028797018963968, 4611686018427387904]\n",
      "None\n",
      "Press Enter to continue...13643290402619392, 578719692113840128, -1\n",
      "[8, 4096, 8192, 16384, 562949953421312, 1125899906842624, 2147483648, 4294967296, 1099511627776, 1024, 16, 32768, 288230376151711744]\n",
      "None\n",
      "Press Enter to continue...576467892300154880, 304125466368016384, 1\n",
      "[1024, 131072, 18014398509481984, 1152921504606846976, 2305843009213693952, 140737488355328, 16777216, 144115188075855872, 512, 65536, 4294967296, 1125899906842624, 36028797018963968, 4611686018427387904]\n",
      "None\n",
      "Press Enter to continue...15895090216304640, 1008813456527722496, -1\n",
      "[8, 4096, 8192, 16384, 562949953421312, 1125899906842624, 2147483648, 4294967296, 1099511627776, 1024, 16777216, 16, 32768]\n",
      "None\n",
      "Press Enter to continue...1008809041301342208, 17025405349527552, 1\n",
      "[1024, 131072, 18014398509481984, 1152921504606846976, 2305843009213693952, 140737488355328, 16777216, 512, 4294967296, 562949953421312, 36028797018963968, 4611686018427387904]\n",
      "None\n",
      "Press Enter to continue...10248015675916288, 2168507935581800448, -1\n",
      "[8, 4096, 8192, 16384, 562949953421312, 2147483648, 4294967296, 1099511627776, 1024, 16, 32768, 281474976710656, 2305843009213693952]\n",
      "None\n",
      "Press Enter to continue...2164004335954429952, 2320594624516980736, 1\n",
      "[1024, 131072, 18014398509481984, 140737488355328, 4611686018427387904, 16777216, 562949953421312, 512, 4294967296, 36028797018963968]\n",
      "None\n",
      "Press Enter to continue...5744416048545792, 9090540562850252800, -1\n",
      "[8, 4096, 8192, 16384, 562949953421312, 2147483648, 18014398509481984, 4294967296, 1099511627776, 1024, 16, 32768, 281474976710656]\n",
      "None\n",
      "Press Enter to continue...9090540286361733120, 5744694684549120, 1\n",
      "[1024, 131072, 140737488355328, 18014398509481984, 16777216, 562949953421312, 512, 65536, 4294967296, 36028797018963968]\n",
      "None\n",
      "Press Enter to continue...5638314250207232, 9090787404284430336, -1\n",
      "[8, 4096, 16384, 562949953421312, 18014398509481984, 4294967296, 1099511627776, 1024, 16, 8192, 32768, 281474976710656, 36028797018963968]\n",
      "None\n",
      "Press Enter to continue...9090787404280760320, 5638314253881344, 1\n",
      "[16, 1024, 8192, 131072, 16777216, 562949953421312, 8, 512, 65536, 32, 16384, 4294967296]\n",
      "None\n",
      "Press Enter to continue...5638313178038272, 9090787405356603400, -1\n",
      "[16, 562949953421312, 18014398509481984, 4294967296, 1099511627776, 4, 32, 16384, 32768, 281474976710656, 36028797018963968]\n",
      "None\n",
      "Press Enter to continue...9090787405356601352, 5638313178040324, 1\n",
      "[1024, 131072, 2, 16777216, 562949953421312, 512, 65536, 8192]\n",
      "None\n",
      "Press Enter to continue...1125900244224004, 9095299818290483208, -1\n",
      "[16, 8192, 18014398509481984, 16777216, 4294967296, 32, 16384, 32768, 1099511627776, 281474976710656, 562949953421312, 36028797018963968]\n",
      "None\n",
      "Press Enter to continue...9095299809700548616, 1127008345786372, 1\n",
      "[1024, 2, 131072, 4294967296, 562949953421312, 512, 16777216, 16, 8192]\n",
      "None\n",
      "Press Enter to continue...1126999755851780, 9095299822585450504, -1\n",
      "[16, 16777216, 8192, 18014398509481984, 32, 16384, 32768, 281474976710656, 562949953421312, 36028797018963968]\n",
      "None\n",
      "Press Enter to continue...9095299822585446400, 1126999755855900, 1\n",
      "[1024, 281474976710656, 131072, 562949953421312, 512, 32, 8192]\n",
      "None\n",
      "Press Enter to continue...1126999754807324, 9095299822586503168, -1\n",
      "[16777216, 16384, 18014398509481984, 32768, 562949953421312, 36028797018963968]\n",
      "None\n",
      "Press Enter to continue...9079501970664923136, 34939250185869340, 1\n",
      "[1024, 281474976710656, 131072, 32]\n",
      "None\n",
      "Press Enter to continue...34939249849532444, 9079501971001261056, -1\n",
      "[32, 16384, 16777216, 512, 131072, 64, 32768, 281474976710656]\n",
      "None\n",
      "Press Enter to continue...9079497559969184768, 34943660898385948, 1\n",
      "[131072, 281474976710656, 562949953421312, 9223372036854775808]\n",
      "None\n",
      "Press Enter to continue...16894009163120668, 18320919248559225856, -1\n",
      "[32, 256, 562949953421312, 36028797018963968, 16384, 32768, 131072]\n",
      "None\n",
      "Press Enter to continue...18320919248559160320, 16894009163186460, 1\n",
      "[131072, 562949953421312]\n",
      "None\n",
      "Press Enter to continue...1112514035996, 18338375095161732096, -1\n",
      "[32, 131072]\n",
      "None\n",
      "Press Enter to continue...18338375095161203712, 1112514564412, 1\n",
      "[131072]\n",
      "None\n",
      "Press Enter to continue...1103823966524, 18338375103851932672, -1\n",
      "[16384, 512, 2, 36028797018963968]\n",
      "None\n",
      "Press Enter to continue...18338375103851931648, 1103823967550, 1\n",
      "[512]\n",
      "None\n",
      "Press Enter to continue...1103823966526, 18338375103851933184, -1\n",
      "[16384, 36028797018963968]\n",
      "None\n",
      "Press Enter to continue...36100407294497086, 18338304597400366592, -1\n",
      "[16384, 32768, 281474976710656, 72057594037927936]\n",
      "None\n",
      "Press Enter to continue...18302838750334823936, 71847729336750398, 1\n",
      "[72057594037927936]\n",
      "None\n",
      "Press Enter to continue...71284779383329086, 18375459294326173184, -1\n",
      "[16384, 32768, 1, 64]\n",
      "None\n",
      "Press Enter to continue...71320032609375039, 18375424041100127232, -1\n",
      "[16384, 32768, 64]\n",
      "None\n",
      "Press Enter to continue...18375424041099070464, 71320032610431871, 1\n",
      "[16384]\n",
      "None\n",
      "Press Enter to continue...71320032610419583, 18375424041099099136, -1\n",
      "[32768, 128]\n",
      "None\n",
      "Press Enter to continue...18375282751157960704, 71461322551590783, 1\n",
      "[128]\n",
      "None\n",
      "Press Enter to continue...35291236132536191, 18411452837577015424, -1\n",
      "[]\n",
      "None\n",
      "Press Enter to continue...52\n",
      "34628173824, 68853694464, -1\n",
      "[524288, 17592186044416, 137438953472, 67108864]\n",
      "None\n",
      "Press Enter to continue...134217728, 240786604032, 1\n",
      "[8796093022208, 536870912, 35184372088832]\n",
      "None\n",
      "Press Enter to continue...172067127296, 35253225783296, -1\n",
      "[524288, 17592186044416, 9007199254740992, 67108864]\n",
      "None\n",
      "Press Enter to continue...35184506306560, 17832972648448, 1\n",
      "[536870912, 8796093022208]\n",
      "None\n",
      "Press Enter to continue...17695265259520, 35322750566400, -1\n",
      "[524288, 1048576, 274877906944, 70368744177664, 262144, 2097152, 4194304, 1073741824, 18014398509481984]\n",
      "None\n",
      "Press Enter to continue...35322482130944, 17695535792128, 1\n",
      "[8192, 8796093022208, 17179869184, 524288, 2251799813685248]\n",
      "None\n",
      "Press Enter to continue...270532608, 61813840412672, -1\n",
      "[4503599627370496, 9007199254740992, 1073741824, 67108864, 4398046511104, 70368744177664]\n",
      "None\n",
      "Press Enter to continue...61779480674304, 4432676782080, 1\n",
      "[8192, 1048576, 17179869184, 2199023255552, 524288, 67108864]\n",
      "None\n",
      "Press Enter to continue...4432408346624, 61779749634048, -1\n",
      "[2048, 2251799813685248, 9007199254740992, 274877906944, 70368744177664]\n",
      "None\n",
      "Press Enter to continue...207098478592, 136373803679744, 1\n",
      "[8192, 2251799813685248, 4503599627370496, 9007199254740992, 17179869184, 16384, 562949953421312, 1125899906842624, 18014398509481984, 36028797018963968]\n",
      "None\n",
      "Press Enter to continue...118781617635328, 4521398911893504, -1\n",
      "[2048, 274877906944, 1024, 262144, 4194304, 576460752303423488, 9007199254740992, 2305843009213693952]\n",
      "None\n",
      "Press Enter to continue...4521192753463296, 119262653972480, 1\n",
      "[8192, 2251799813685248, 9007199254740992, 140737488355328, 2199023255552, 67108864, 17179869184, 16384, 1073741824, 2147483648, 562949953421312, 1125899906842624, 18014398509481984, 36028797018963968]\n",
      "None\n",
      "Press Enter to continue...110432201211904, 6781823019909120, -1\n",
      "[1048576, 1152921504606846976, 17179869184, 1024, 262144, 4194304, 1125899906842624, 288230376151711744, 576460752303423488]\n",
      "None\n",
      "Press Enter to continue...6773026926886912, 1245128201076736, 1\n",
      "[8192, 9007199254740992, 549755813888, 140737488355328, 2199023255552, 562949953421312, 8589934592, 17179869184, 16384, 1073741824, 2147483648, 144115188075855872, 18014398509481984, 36028797018963968]\n",
      "None\n",
      "Press Enter to continue...1244647164739584, 6774057719037952, -1\n",
      "[2048, 1073741824, 576460752303423488, 9007199254740992, 1024, 262144, 4194304, 2147483648, 1152921504606846976, 2305843009213693952]\n",
      "None\n",
      "Press Enter to continue...6773988865343488, 1244716018696192, 1\n",
      "[8192, 9007199254740992, 18014398509481984, 140737488355328, 131072, 67108864, 2199023255552, 562949953421312, 8589934592, 17179869184, 16384, 144115188075855872, 36028797018963968]\n",
      "None\n",
      "Press Enter to continue..."
     ]
    }
   ],
   "source": [
    "loaded_data = load_data('../data/processed/data', 1)\n",
    "for score, game_nodes in loaded_data:\n",
    "    print(score)\n",
    "    for game_node in game_nodes:\n",
    "        if not game_node.moves:\n",
    "            game_node.moves = generate_moves(game_node.own_pieces, game_node.enemy_pieces, BOARD_SIZE)[0]\n",
    "        print(game_node)\n",
    "        print(game_node.moves)\n",
    "        print(game_node.value)\n",
    "        cv2_display(BOARD_SIZE, game_node.own_pieces, game_node.enemy_pieces, game_node.moves, game_node.turn, display_only=True)\n",
    "        print(\"Press Enter to continue...\", end=\"\")\n",
    "        input()\n",
    "cv2.destroyAllWindows()"
   ],
   "metadata": {
    "collapsed": false,
    "is_executing": true,
    "ExecuteTime": {
     "start_time": "2024-03-22T21:20:54.794921Z"
    }
   },
   "id": "5665b7a476e03002",
   "execution_count": null
  },
  {
   "cell_type": "markdown",
   "source": [
    "#### Data Preprocessing\n",
    "Now we want to remove duplicates, add symmetries, and consider the games as the black player's perspective (if white win, we invert the board)."
   ],
   "metadata": {
    "collapsed": false
   },
   "id": "6606a674e8bded94"
  },
  {
   "cell_type": "code",
   "outputs": [],
   "source": [],
   "metadata": {
    "collapsed": false,
    "ExecuteTime": {
     "start_time": "2024-03-22T20:48:33.322282Z"
    }
   },
   "id": "5f3431c9debe3646",
   "execution_count": null
  }
 ],
 "metadata": {
  "kernelspec": {
   "display_name": "Python 3",
   "language": "python",
   "name": "python3"
  },
  "language_info": {
   "codemirror_mode": {
    "name": "ipython",
    "version": 2
   },
   "file_extension": ".py",
   "mimetype": "text/x-python",
   "name": "python",
   "nbconvert_exporter": "python",
   "pygments_lexer": "ipython2",
   "version": "2.7.6"
  }
 },
 "nbformat": 4,
 "nbformat_minor": 5
}
