{
 "cells": [
  {
   "cell_type": "markdown",
   "source": [
    "## Training a specialised model (CNN+RNN) for Othello/Reversi\n",
    "\n",
    "This notebook present a new approach to estimate the next move to play in a game of Othello using Supervised Learning. The datasets come from the [Fédération Française d'Othello](https://www.ffothello.org/informatique/la-base-wthor/). The model input is on one hand the board state which will feed in a Convolutional Neural Network (CNN) and on the other hand the history of the game which will feed in a Recurrent Neural Network (RNN). The output of the model is the next move to play."
   ],
   "metadata": {
    "collapsed": false
   },
   "id": "525af7d72e885e78"
  },
  {
   "cell_type": "markdown",
   "source": [
    "### Data Handling"
   ],
   "metadata": {
    "collapsed": false
   },
   "id": "b14453e6bec3cf95"
  },
  {
   "cell_type": "markdown",
   "source": [
    "#### Extracting data from the WThor database"
   ],
   "metadata": {
    "collapsed": false
   },
   "id": "406b56767f2f2a65"
  },
  {
   "cell_type": "code",
   "outputs": [],
   "source": [],
   "metadata": {
    "collapsed": false
   },
   "id": "44f5dc444f692047"
  }
 ],
 "metadata": {
  "kernelspec": {
   "display_name": "Python 3",
   "language": "python",
   "name": "python3"
  },
  "language_info": {
   "codemirror_mode": {
    "name": "ipython",
    "version": 2
   },
   "file_extension": ".py",
   "mimetype": "text/x-python",
   "name": "python",
   "nbconvert_exporter": "python",
   "pygments_lexer": "ipython2",
   "version": "2.7.6"
  }
 },
 "nbformat": 4,
 "nbformat_minor": 5
}
