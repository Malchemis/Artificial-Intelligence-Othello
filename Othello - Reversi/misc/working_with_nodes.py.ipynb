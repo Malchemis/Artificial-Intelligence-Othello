{
 "cells": [
  {
   "cell_type": "markdown",
   "source": [
    "### Working with Nodes\n",
    "\n",
    "Date : 2024\n",
    "Author : Malchemis"
   ],
   "metadata": {
    "collapsed": false
   },
   "id": "61ffd36f781fa7a9"
  },
  {
   "cell_type": "code",
   "outputs": [],
   "source": [
    "import sys\n",
    "\n",
    "sys.path.append('F:\\\\Workspaces\\\\PyCharm\\\\IA - Fondements\\\\Othello - Reversi')\n",
    "from next import generate_moves, make_move\n",
    "from game import init_bit_board"
   ],
   "metadata": {
    "collapsed": false,
    "ExecuteTime": {
     "end_time": "2024-03-15T14:12:26.242781Z",
     "start_time": "2024-03-15T14:12:26.236235Z"
    }
   },
   "id": "edd46533141ff744",
   "execution_count": 50
  },
  {
   "cell_type": "code",
   "outputs": [],
   "source": [
    "class Node:\n",
    "    def __init__(self, parent, own_pieces, enemy_pieces, turn, size):\n",
    "        self.parent = parent\n",
    "        self.own_pieces = own_pieces\n",
    "        self.enemy_pieces = enemy_pieces\n",
    "        self.turn = turn\n",
    "        self.size = size\n",
    "        self.children = []\n",
    "        self.moves = []\n",
    "        self.directions = {}\n",
    "        self.value = None\n",
    "        self.best_move = None\n",
    "        self.visited = False\n",
    "\n",
    "    def expand(self):\n",
    "        self.moves, self.directions = generate_moves(self.own_pieces, self.enemy_pieces, self.size)\n",
    "        # for move in self.moves:\n",
    "        #     own, enemy = make_move(self.own_pieces, self.enemy_pieces, move, self.directions)\n",
    "        #     self.children.append(Node(self, enemy, own, -self.turn, self.size))\n",
    "        self.children = [Node(self, *make_move(self.own_pieces, self.enemy_pieces, move, self.directions)[::-1],\n",
    "                              -self.turn, self.size)\n",
    "                         for move in self.moves]\n",
    "        self.visited = True\n",
    "\n",
    "    def get_child(self, child):\n",
    "        for c in self.children:\n",
    "            if c == child:\n",
    "                return c\n",
    "        return None\n",
    "    \n",
    "    def add_other_child(self, other):\n",
    "        self.children.append(Node(self, other.own_pieces, other.enemy_pieces, -self.turn, self.size))\n",
    "        \n",
    "\n",
    "    def __eq__(self, other):\n",
    "        return self.own_pieces == other.own_pieces and self.enemy_pieces == other.enemy_pieces\n",
    "\n",
    "    def __repr__(self):\n",
    "        return f\"{self.own_pieces}, {self.enemy_pieces}, {self.turn}\"\n",
    "\n",
    "    def __str__(self):\n",
    "        return f\"{self.own_pieces}, {self.enemy_pieces}, {self.turn}\""
   ],
   "metadata": {
    "collapsed": false,
    "ExecuteTime": {
     "end_time": "2024-03-15T14:12:26.269559Z",
     "start_time": "2024-03-15T14:12:26.257802Z"
    }
   },
   "id": "4b1f42c178de397",
   "execution_count": 51
  },
  {
   "cell_type": "code",
   "outputs": [],
   "source": [
    "size = 8\n",
    "\n",
    "enemy, own = init_bit_board(size)  # set the bit board : white pieces, black pieces\n",
    "turn = -1  # Black starts\n",
    "\n",
    "own_root = Node(None, own, enemy, turn, size)\n",
    "enemy_root = Node(None, own, enemy, turn, size)"
   ],
   "metadata": {
    "collapsed": false,
    "ExecuteTime": {
     "end_time": "2024-03-15T14:12:26.307738Z",
     "start_time": "2024-03-15T14:12:26.300105Z"
    }
   },
   "id": "543caa2667e138e3",
   "execution_count": 52
  },
  {
   "cell_type": "code",
   "outputs": [
    {
     "name": "stdout",
     "output_type": "stream",
     "text": [
      "34628173824, 68853694464, -1\n",
      "34628173824, 68853694464, -1\n"
     ]
    }
   ],
   "source": [
    "print(own_root)\n",
    "print(enemy_root)"
   ],
   "metadata": {
    "collapsed": false,
    "ExecuteTime": {
     "end_time": "2024-03-15T14:12:26.320492Z",
     "start_time": "2024-03-15T14:12:26.311756Z"
    }
   },
   "id": "26252fe5b576dbbb",
   "execution_count": 53
  },
  {
   "cell_type": "code",
   "outputs": [
    {
     "name": "stdout",
     "output_type": "stream",
     "text": [
      "68719476736, 34762915840, 1\n",
      "134217728, 17695533694976, 1\n",
      "134217728, 240786604032, 1\n",
      "68719476736, 34829500416, 1\n"
     ]
    }
   ],
   "source": [
    "own_root.expand()\n",
    "for child in own_root.children:\n",
    "    print(child)"
   ],
   "metadata": {
    "collapsed": false,
    "ExecuteTime": {
     "end_time": "2024-03-15T14:12:26.335308Z",
     "start_time": "2024-03-15T14:12:26.327515Z"
    }
   },
   "id": "b4b9b4f33e0ba2d0",
   "execution_count": 54
  },
  {
   "cell_type": "code",
   "outputs": [
    {
     "name": "stdout",
     "output_type": "stream",
     "text": [
      "68719476736, 34762915840, 1\n",
      "68719476736, 34762915840, 1\n",
      "68719476736, 34762915840, 1\n"
     ]
    }
   ],
   "source": [
    "next_node = own_root.children[0]\n",
    "print(next_node)\n",
    "enemy_root.add_other_child(next_node)\n",
    "print(enemy_root.children[0])\n",
    "new_enemy_root = enemy_root.get_child(next_node)\n",
    "print(new_enemy_root)"
   ],
   "metadata": {
    "collapsed": false,
    "ExecuteTime": {
     "end_time": "2024-03-15T14:12:26.359326Z",
     "start_time": "2024-03-15T14:12:26.350324Z"
    }
   },
   "id": "254a0dd0d26a2d73",
   "execution_count": 55
  },
  {
   "cell_type": "code",
   "outputs": [],
   "source": [],
   "metadata": {
    "collapsed": false,
    "ExecuteTime": {
     "end_time": "2024-03-15T14:12:26.373369Z",
     "start_time": "2024-03-15T14:12:26.369360Z"
    }
   },
   "id": "93f3de2cab32da7b",
   "execution_count": 55
  }
 ],
 "metadata": {
  "kernelspec": {
   "display_name": "Python 3",
   "language": "python",
   "name": "python3"
  },
  "language_info": {
   "codemirror_mode": {
    "name": "ipython",
    "version": 2
   },
   "file_extension": ".py",
   "mimetype": "text/x-python",
   "name": "python",
   "nbconvert_exporter": "python",
   "pygments_lexer": "ipython2",
   "version": "2.7.6"
  }
 },
 "nbformat": 4,
 "nbformat_minor": 5
}
